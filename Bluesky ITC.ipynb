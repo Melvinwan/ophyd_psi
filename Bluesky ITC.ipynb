{
 "cells": [
  {
   "cell_type": "code",
   "execution_count": 1,
   "id": "7e6467e3",
   "metadata": {},
   "outputs": [],
   "source": [
    "from ITC_ophyd import MercuryITCDevice"
   ]
  },
  {
   "cell_type": "code",
   "execution_count": 2,
   "id": "ae9c81e7",
   "metadata": {},
   "outputs": [
    {
     "name": "stdout",
     "output_type": "stream",
     "text": [
      "connecting to itc-optistat.psi.ch\n"
     ]
    }
   ],
   "source": [
    "LTDLC = MercuryITCDevice(prefix=\"...\",name=\"ITCD\", host=\"itc-optistat.psi.ch\")\n",
    "# LTDLC.stage()\n",
    "# print(LTDLC.read())\n",
    "\n",
    "# print(LTDLC.get())\n",
    "# print(LTDLC.describe())\n"
   ]
  },
  {
   "cell_type": "code",
   "execution_count": 3,
   "id": "a28bff14",
   "metadata": {},
   "outputs": [
    {
     "name": "stdout",
     "output_type": "stream",
     "text": [
      "OrderedDict([('ITCD_heater_power', {'value': 'N/A', 'timestamp': 1686148982.9189959}), ('ITCD_temperature', {'value': 819.73, 'timestamp': 1686148982.9189959})])\n"
     ]
    }
   ],
   "source": [
    "print(LTDLC.read())"
   ]
  },
  {
   "cell_type": "code",
   "execution_count": 4,
   "id": "7741057d",
   "metadata": {},
   "outputs": [
    {
     "name": "stdout",
     "output_type": "stream",
     "text": [
      "data keys (* hints)\n",
      "-------------------\n",
      "*ITCD_heater_power\n",
      "*ITCD_temperature\n",
      "\n",
      "read attrs\n",
      "----------\n",
      "heater_power         ITCHeaterPower      ('ITCD_heater_power')\n",
      "temperature          ITCTemperature      ('ITCD_temperature')\n",
      "\n",
      "config keys\n",
      "-----------\n",
      "\n",
      "configuration attrs\n",
      "-------------------\n",
      "\n",
      "unused attrs\n",
      "------------\n",
      "\n"
     ]
    }
   ],
   "source": [
    "LTDLC.summary()"
   ]
  },
  {
   "cell_type": "code",
   "execution_count": 5,
   "id": "4a143ef9",
   "metadata": {},
   "outputs": [
    {
     "data": {
      "text/plain": [
       "1"
      ]
     },
     "execution_count": 5,
     "metadata": {},
     "output_type": "execute_result"
    }
   ],
   "source": [
    "from bluesky import RunEngine\n",
    "from bluesky.plans import count\n",
    "from bluesky.callbacks.best_effort import BestEffortCallback\n",
    "RE = RunEngine({})\n",
    "bec = BestEffortCallback()\n",
    "\n",
    "# Send all metadata/data captured to the BestEffortCallback.\n",
    "RE.subscribe(bec)\n",
    "from databroker import Broker\n",
    "import databroker\n",
    "# db = Broker.named('temp')\n",
    "from databroker import temp\n",
    "catalog = temp()\n",
    "# Insert all metadata/data captured into db.\n",
    "# RE.subscribe(db.insert)\n",
    "# catalog = databroker.catalog['CATALOG_PSI_IR']\n",
    "RE.subscribe(catalog.v1.insert)\n"
   ]
  },
  {
   "cell_type": "code",
   "execution_count": 6,
   "id": "40127753",
   "metadata": {},
   "outputs": [
    {
     "name": "stdout",
     "output_type": "stream",
     "text": [
      "\n",
      "\n",
      "Transient Scan ID: 1     Time: 2023-06-07 16:43:10\n",
      "Persistent Unique Scan ID: '9bd7a3f1-f3c4-49ee-9f80-dc73721245d4'\n",
      "New stream: 'primary'\n"
     ]
    },
    {
     "name": "stderr",
     "output_type": "stream",
     "text": [
      "C:\\Users\\shen_t2\\AppData\\Roaming\\Python\\Python39\\site-packages\\bluesky\\callbacks\\best_effort.py:242: UserWarning: Omitting ITCD_heater_power from plot because dtype is string\n",
      "  warn(\"Omitting {} from plot because dtype is {}\"\n"
     ]
    },
    {
     "name": "stdout",
     "output_type": "stream",
     "text": [
      "+-----------+------------+-------------------+------------------+\n",
      "|   seq_num |       time | ITCD_heater_power | ITCD_temperature |\n",
      "+-----------+------------+-------------------+------------------+\n",
      "|         1 | 16:43:10.6 |               N/A |          819.730 |\n",
      "|         2 | 16:43:11.4 |               N/A |          819.730 |\n",
      "|         3 | 16:43:12.4 |               N/A |          819.730 |\n",
      "|         4 | 16:43:13.4 |               N/A |          819.730 |\n",
      "|         5 | 16:43:14.4 |               N/A |          819.730 |\n",
      "+-----------+------------+-------------------+------------------+\n",
      "generator count ['9bd7a3f1'] (scan num: 1)\n",
      "\n",
      "\n",
      "\n"
     ]
    },
    {
     "data": {
      "image/png": "[encoded data removed]",
      "text/plain": [
       "<Figure size 500x1000 with 2 Axes>"
      ]
     },
     "metadata": {},
     "output_type": "display_data"
    }
   ],
   "source": [
    "# from functools import partial\n",
    "# laser_count = partial(count, [LTDLC])\n",
    "# countDLC, = RE(laser_count(num=5,delay=1))\n",
    "# from bluesky.callbacks.mpl_plotting import LivePlot\n",
    "\n",
    "countDLC, = RE(count([LTDLC],num=5,delay=1))\n",
    "# countDLC, = RE(count([LTDLC],num=5,delay=1, LivePlot('LTDLC_scan_end', 'LTDLC_scan_start')))"
   ]
  },
  {
   "cell_type": "code",
   "execution_count": 7,
   "id": "0c56b839",
   "metadata": {},
   "outputs": [],
   "source": [
    "header = catalog[countDLC]"
   ]
  },
  {
   "cell_type": "code",
   "execution_count": 8,
   "id": "e7b6706b",
   "metadata": {},
   "outputs": [
    {
     "data": {
      "text/plain": [
       "['start', 'descriptors', 'stop', 'ext']"
      ]
     },
     "execution_count": 8,
     "metadata": {},
     "output_type": "execute_result"
    }
   ],
   "source": [
    "list(header)"
   ]
  },
  {
   "cell_type": "code",
   "execution_count": 10,
   "id": "52c33fc8",
   "metadata": {},
   "outputs": [],
   "source": [
    "ds = header.primary.read()"
   ]
  },
  {
   "cell_type": "code",
   "execution_count": 12,
   "id": "c1491461",
   "metadata": {},
   "outputs": [
    {
     "data": {
      "text/plain": [
       "[{'run_start': '9bd7a3f1-f3c4-49ee-9f80-dc73721245d4',\n",
       "  'time': 1686148990.4006922,\n",
       "  'data_keys': {'ITCD_heater_power': {'source': 'MercuryITC',\n",
       "    'dtype': 'string',\n",
       "    'shape': [],\n",
       "    'object_name': 'ITCD'},\n",
       "   'ITCD_temperature': {'source': 'MercuryITC',\n",
       "    'dtype': 'number',\n",
       "    'shape': [],\n",
       "    'object_name': 'ITCD'}},\n",
       "  'uid': '061cfc14-5be0-4b59-ba64-d693440e1dc9',\n",
       "  'configuration': {'ITCD': {'data': {}, 'timestamps': {}, 'data_keys': {}}},\n",
       "  'name': 'primary',\n",
       "  'hints': {'ITCD': {'fields': ['ITCD_heater_power', 'ITCD_temperature']}},\n",
       "  'object_keys': {'ITCD': ['ITCD_heater_power', 'ITCD_temperature']}}]"
      ]
     },
     "execution_count": 12,
     "metadata": {},
     "output_type": "execute_result"
    }
   ],
   "source": [
    "ds.head()"
   ]
  },
  {
   "cell_type": "code",
   "execution_count": 18,
   "id": "f804e1e4",
   "metadata": {},
   "outputs": [
    {
     "data": {
      "text/plain": [
       "[LaserToptica(prefix='...', name='LTDLC', read_attrs=['scan_end', 'scan_start', 'scan_offset', 'scan_frequency', 'ctl_wavelength_act'], configuration_attrs=[])]"
      ]
     },
     "execution_count": 18,
     "metadata": {},
     "output_type": "execute_result"
    }
   ],
   "source": [
    "LTDLC.unstage()"
   ]
  },
  {
   "cell_type": "code",
   "execution_count": null,
   "id": "b9809335",
   "metadata": {},
   "outputs": [],
   "source": []
  }
 ],
 "metadata": {
  "kernelspec": {
   "display_name": "Python 3 (ipykernel)",
   "language": "python",
   "name": "python3"
  },
  "language_info": {
   "codemirror_mode": {
    "name": "ipython",
    "version": 3
   },
   "file_extension": ".py",
   "mimetype": "text/x-python",
   "name": "python",
   "nbconvert_exporter": "python",
   "pygments_lexer": "ipython3",
   "version": "3.9.13"
  }
 },
 "nbformat": 4,
 "nbformat_minor": 5
}
