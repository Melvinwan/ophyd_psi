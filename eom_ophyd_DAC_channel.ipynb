{
 "cells": [
  {
   "cell_type": "markdown",
   "metadata": {},
   "source": [
    "# <center> EOM DAC Channel\n",
    "\n",
    "Makes a CW output by using periodic mode, which has been used in the example above. The idea is to have both DACs outputting the same frequency, but with a different phase that can be set by the user."
   ]
  },
  {
   "cell_type": "code",
   "execution_count": 1,
   "metadata": {},
   "outputs": [
    {
     "data": {
      "application/javascript": [
       "\n",
       "try {\n",
       "require(['notebook/js/codecell'], function(codecell) {\n",
       "  codecell.CodeCell.options_default.highlight_modes[\n",
       "      'magic_text/x-csrc'] = {'reg':[/^%%microblaze/]};\n",
       "  Jupyter.notebook.events.one('kernel_ready.Kernel', function(){\n",
       "      Jupyter.notebook.get_cells().map(function(cell){\n",
       "          if (cell.cell_type == 'code'){ cell.auto_highlight(); } }) ;\n",
       "  });\n",
       "});\n",
       "} catch (e) {};\n"
      ]
     },
     "metadata": {},
     "output_type": "display_data"
    },
    {
     "data": {
      "application/javascript": [
       "\n",
       "try {\n",
       "require(['notebook/js/codecell'], function(codecell) {\n",
       "  codecell.CodeCell.options_default.highlight_modes[\n",
       "      'magic_text/x-csrc'] = {'reg':[/^%%pybind11/]};\n",
       "  Jupyter.notebook.events.one('kernel_ready.Kernel', function(){\n",
       "      Jupyter.notebook.get_cells().map(function(cell){\n",
       "          if (cell.cell_type == 'code'){ cell.auto_highlight(); } }) ;\n",
       "  });\n",
       "});\n",
       "} catch (e) {};\n"
      ]
     },
     "metadata": {},
     "output_type": "display_data"
    },
    {
     "name": "stdout",
     "output_type": "stream",
     "text": [
      "Populating the interactive namespace from numpy and matplotlib\n"
     ]
    }
   ],
   "source": [
    "# Import the QICK drivers and auxiliary libraries\n",
    "from qick import *\n",
    "from qick.parser import load_program\n",
    "\n",
    "%pylab inline"
   ]
  },
  {
   "cell_type": "code",
   "execution_count": 2,
   "metadata": {},
   "outputs": [],
   "source": [
    "from create_json import import_json_file, save_list_to_json_file\n",
    "\n",
    "config = import_json_file(\"config.json\")"
   ]
  },
  {
   "cell_type": "code",
   "execution_count": 3,
   "metadata": {},
   "outputs": [
    {
     "name": "stdout",
     "output_type": "stream",
     "text": [
      "\n",
      "QICK configuration:\n",
      "\n",
      "\tBoard: RFSoC4x2\n",
      "\n",
      "\tGlobal clocks (MHz): tProcessor 350.000, RF reference 491.520\n",
      "\n",
      "\t2 signal generator channels:\n",
      "\t0:\taxis_signal_gen_v6 - tProc output 0, envelope memory 65536 samples\n",
      "\t\tDAC tile 0, ch 0, 32-bit DDS, fabric=614.400 MHz, fs=9830.400 MHz\n",
      "\t1:\taxis_signal_gen_v6 - tProc output 1, envelope memory 65536 samples\n",
      "\t\tDAC tile 2, ch 0, 32-bit DDS, fabric=614.400 MHz, fs=9830.400 MHz\n",
      "\n",
      "\t2 readout channels:\n",
      "\t0:\taxis_readout_v2 - controlled by PYNQ\n",
      "\t\tADC tile 0, ch 0, 32-bit DDS, fabric=491.520 MHz, fs=3932.160 MHz\n",
      "\t\tmaxlen 1024 (avg) 16384 (decimated), trigger bit 4, tProc input 0\n",
      "\t1:\taxis_readout_v2 - controlled by PYNQ\n",
      "\t\tADC tile 0, ch 1, 32-bit DDS, fabric=491.520 MHz, fs=3932.160 MHz\n",
      "\t\tmaxlen 1024 (avg) 16384 (decimated), trigger bit 5, tProc input 1\n",
      "\n",
      "\t2 DACs:\n",
      "\t\tDAC tile 0, ch 0 is DAC_B\n",
      "\t\tDAC tile 2, ch 0 is DAC_A\n",
      "\n",
      "\t2 ADCs:\n",
      "\t\tADC tile 0, ch 0 is ADC_D\n",
      "\t\tADC tile 0, ch 1 is ADC_C\n",
      "\n",
      "\t4 digital output pins (tProc output 7):\n",
      "\t0:\tPMOD0_0\n",
      "\t1:\tPMOD0_1\n",
      "\t2:\tPMOD0_2\n",
      "\t3:\tPMOD0_3\n",
      "\n",
      "\ttProc: program memory 1024 words, data memory 1024 words\n",
      "\t\texternal start pin: None\n"
     ]
    }
   ],
   "source": [
    "# Load bitstream with custom overlay\n",
    "soc = QickSoc()\n",
    "soccfg = soc\n",
    "# print(soccfg)\n",
    "\n",
    "# Print the QICK configuration\n",
    "print(soc)\n",
    "\n",
    "# loopback and monitor channels\n",
    "out_chs = [0,1]"
   ]
  },
  {
   "cell_type": "code",
   "execution_count": 4,
   "metadata": {},
   "outputs": [],
   "source": [
    "# Output frequency f0_v.\n",
    "###################\n",
    "# Try it yourself ! Change the output frequency.\n",
    "###################\n",
    "\n",
    "f0_start=1003\n",
    "f0_step=0.000250\n",
    "expts=40\n",
    "# expts=1\n",
    "\n",
    "f0_v = np.arange(0,expts)*f0_step+f0_start\n",
    "\n",
    "f0_v = soccfg.adcfreq(f0_v, gen_ch=0, ro_ch=0)\n",
    "\n",
    "def calculate_phase(d):\n",
    "    [xi,xq] = d\n",
    "    x = xi +1j*xq\n",
    "\n",
    "    # Average to improve calibration.\n",
    "    xavg = np.mean(x)\n",
    "\n",
    "    # Calculate calibration phase.\n",
    "    fi = np.remainder(np.angle(xavg,deg=True)+360,360)\n",
    "    return [fi, np.abs(xavg), np.std(x)]\n",
    "\n",
    "def print_results(f0, res):\n",
    "    print(\"freq_i = %f MHz, \\n\"%(f0) +\n",
    "         \"phi_i = (%.2f, %.2f) deg, \\n\" % tuple([res[i][0] for i in range(2)]) +\n",
    "         \"mag = (%.2f, %.2f), \\n\" % tuple([res[i][1] for i in range(2)]) +\n",
    "         \"RMS = (%.2f, %.2f) ADU\" % tuple([res[i][2] for i in range(2)]))\n",
    "#     print(\"freq_i = %f MHz, phi_i = (%.2f, %.2f) deg, mag = (%.2f, %.2f), RMS = (%.2f, %.2f) ADU\" %(f0,*out_array,*A,*xrms))"
   ]
  },
  {
   "cell_type": "code",
   "execution_count": 5,
   "metadata": {},
   "outputs": [],
   "source": [
    "class MultipleFreqProgram(AveragerProgram):\n",
    "    def __init__(self,soccfg, cfg):\n",
    "        super().__init__(soccfg, cfg)\n",
    "\n",
    "    def initialize(self):\n",
    "        cfg=self.cfg   \n",
    "        \n",
    "        # configure the readout lengths and downconversion frequencies\n",
    "        for ch in range(2):\n",
    "            self.declare_readout(ch=ch, length=self.cfg[\"readout_length\"],\n",
    "                                 freq=self.cfg[\"pulse_freq\"])\n",
    "\n",
    "        idata = 30000*np.ones(16*cfg[\"length\"])\n",
    "#         qdata = 30000*np.ones(16*cfg[\"length\"])\n",
    "\n",
    "        for ch in self.cfg['out_ch']:\n",
    "            self.declare_gen(ch=ch, nqz=cfg[\"zone\"])\n",
    "            self.add_pulse(ch=ch, name=\"measure\", idata=idata)\n",
    "#             self.add_pulse(ch=ch, name=\"measure\", idata=idata,qdata=qdata)\n",
    "        \n",
    "        freq=soccfg.freq2reg(cfg[\"pulse_freq\"])  # convert frequency to dac frequency\n",
    "#         self.trigger(pins=[0], t=0) # send a pulse on pmod0_0, for scope trigger\n",
    "        for ii, ch in enumerate(self.cfg['out_ch']):\n",
    "            self.default_pulse_registers(ch=ch,style=\"arb\",waveform=\"measure\", mode=cfg[\"mode\"])\n",
    "        self.synci(200)  # give processor some time to configure pulses\n",
    "    \n",
    "    def body(self):\n",
    "        self.trigger(adcs=[0,1],adc_trig_offset=self.cfg[\"adc_trig_offset\"])  # trigger the adc acquisition\n",
    "        for ii, ch in enumerate(self.cfg['out_ch']):\n",
    "            for jj,freq in enumerate(self.cfg[\"freq_seq\"]):\n",
    "                self.set_pulse_registers(ch=ch, freq=soccfg.freq2reg(self.cfg[freq][\"pulse_freq\"]), phase=soccfg.deg2reg(self.cfg[freq][\"res_phase\"]), gain=self.cfg[freq][\"pulse_gain\"])\n",
    "                self.pulse(ch=ch, t=self.cfg[\"time_seq\"][jj]) # play readout pulse\n",
    "        self.wait_all() # control should wait until the readout is over\n",
    "        self.sync_all(200)  # wait for measurement to complete\n"
   ]
  },
  {
   "cell_type": "code",
   "execution_count": 6,
   "metadata": {},
   "outputs": [
    {
     "data": {
      "application/vnd.jupyter.widget-view+json": {
       "model_id": "d5035a05dfb24a8088a8c739f555305e",
       "version_major": 2,
       "version_minor": 0
      },
      "text/plain": [
       "  0%|          | 0/1 [00:00<?, ?it/s]"
      ]
     },
     "metadata": {},
     "output_type": "display_data"
    },
    {
     "name": "stdout",
     "output_type": "stream",
     "text": [
      "freq_i = 999.999998 MHz, \n",
      "phi_i = (10.14, 254.04) deg, \n",
      "mag = (39.05, 38.81), \n",
      "RMS = (40.18, 39.88) ADU\n",
      "Phase difference of -243.909677890439 deg\n"
     ]
    },
    {
     "data": {
      "image/png": "[encoded data removed]",
      "text/plain": [
       "<Figure size 432x288 with 1 Axes>"
      ]
     },
     "metadata": {
      "needs_background": "light"
     },
     "output_type": "display_data"
    }
   ],
   "source": [
    "prog = MultipleFreqProgram(soccfg, config)\n",
    "iq_list = prog.acquire_decimated(soc, load_pulses=True, progress=True, debug=False)\n",
    "save_list_to_json_file(iq_list, \"iq_list.json\")\n",
    "\n",
    "# Plot results.\n",
    "plt.figure(1)\n",
    "for ii, iq in enumerate(iq_list):\n",
    "#     plt.plot(iq[0], label=\"I value, ADC %d\"%(config['out_ch'][ii]))\n",
    "#     plt.plot(iq[1], label=\"Q value, ADC %d\"%(config['out_ch'][ii]))\n",
    "    plt.plot(np.abs(iq[0]+1j*iq[1]), label=\"mag, ADC %d\"%(config['out_ch'][ii]))\n",
    "plt.ylabel(\"a.u.\")\n",
    "plt.xlabel(\"Clock ticks\")\n",
    "plt.title(\"Averages = \" + str(config[\"soft_avgs\"]))\n",
    "plt.legend()\n",
    "\n",
    "\n",
    "# to switch off output\n",
    "soc.reset_gens()\n",
    "\n",
    "\n",
    "# get the phase\n",
    "res = [calculate_phase(iq) for iq in iq_list]\n",
    "print_results(config['pulse_freq'], res)\n",
    "\n",
    "p_diff = res[0][0]-res[1][0]\n",
    "print('Phase difference of {:} deg'.format(p_diff))\n",
    "\n",
    "# if config['res_phase'] == [0, 0]:\n",
    "#     p_diff0 = p_diff.copy() \n"
   ]
  },
  {
   "cell_type": "code",
   "execution_count": 9,
   "metadata": {},
   "outputs": [],
   "source": [
    "freqA = {\"res_phase\": 90 , # The phase of the signal        \n",
    "\n",
    "        \"pulse_gain\": 2000, # [DAC units]\n",
    "        # Try varying pulse_gain from 500 to 30000 DAC units\n",
    "\n",
    "        \"pulse_freq\": soccfg.adcfreq(1000, gen_ch=0, ro_ch=0), # [MHz]\n",
    "        }\n",
    "freqB = {\"res_phase\": 180 , # The phase of the signal        \n",
    "\n",
    "        \"pulse_gain\": 3000, # [DAC units]\n",
    "        # Try varying pulse_gain from 500 to 30000 DAC units\n",
    "\n",
    "        \"pulse_freq\": soccfg.adcfreq(1000, gen_ch=0, ro_ch=0), # [MHz]\n",
    "        }\n",
    "A = \"freqA\"\n",
    "B = \"freqB\"\n",
    "config={\"out_ch\":out_chs,\n",
    "        \"reps\":1, # --Fixed\n",
    "        \"freqA\": freqA,\n",
    "        \"freqB\": freqB,\n",
    "        \"freq_seq\": [A,B,A,B],\n",
    "#         \"res_phase\": [180 ,180],\n",
    "#         \"pulse_gain\":[32000,32000],\n",
    "        \"time_seq\":[50, 190,370,700],\n",
    "        # pulse length: will be repeated periodically\n",
    "        \"length\":100, # [Clock ticks]\n",
    "        \"pulse_freq\":soccfg.adcfreq(1000, gen_ch=1, ro_ch=1), #readout freq\n",
    "        \"readout_length\": 2000, # [Clock ticks]\n",
    "        \n",
    "\n",
    "        \"adc_trig_offset\": 0, # [Clock ticks]\n",
    "        # Needs to be > 150 to avoid seeing the rising pulse flank\n",
    "\n",
    "        \"soft_avgs\":1,\n",
    "        # Try varying soft_avgs from 1 to 200 averages\n",
    "        \n",
    "        \"zone\": 1,  \n",
    "        # nyquist zone of generator\n",
    "        \n",
    "        \n",
    "        \"mode\": \"periodic\",\n",
    "        # to make CW output\n",
    "        \n",
    "        \n",
    "        #\"mode\": \"oneshot\"\n",
    "        # to make single shot output\n",
    "\n",
    "       }"
   ]
  },
  {
   "cell_type": "code",
   "execution_count": 10,
   "metadata": {},
   "outputs": [],
   "source": [
    "from create_json import create_json\n",
    "\n",
    "create_json(config)\n"
   ]
  },
  {
   "cell_type": "code",
   "execution_count": 7,
   "metadata": {},
   "outputs": [
    {
     "data": {
      "text/plain": [
       "array([[[  0.,  -1.,   0., ...,  48.,  47.,  47.],\n",
       "        [ -2.,  -1.,  -1., ..., -48., -47., -47.]],\n",
       "\n",
       "       [[ -2.,   0.,   1., ..., -64., -67., -64.],\n",
       "        [ -1.,  -2.,  -1., ..., -21., -22., -24.]]])"
      ]
     },
     "execution_count": 7,
     "metadata": {},
     "output_type": "execute_result"
    }
   ],
   "source": [
    "iq_list"
   ]
  },
  {
   "cell_type": "code",
   "execution_count": 20,
   "metadata": {},
   "outputs": [],
   "source": [
    "freqA = {\"res_phase\": 90 , # The phase of the signal        \n",
    "\n",
    "        \"pulse_gain\": 2000, # [DAC units]\n",
    "        # Try varying pulse_gain from 500 to 30000 DAC units\n",
    "\n",
    "        \"pulse_freq\": soccfg.adcfreq(1000, gen_ch=0, ro_ch=0), # [MHz]\n",
    "        }\n",
    "freqB = {\"res_phase\": 180 , # The phase of the signal        \n",
    "\n",
    "        \"pulse_gain\": 3000, # [DAC units]\n",
    "        # Try varying pulse_gain from 500 to 30000 DAC units\n",
    "\n",
    "        \"pulse_freq\": soccfg.adcfreq(1000, gen_ch=0, ro_ch=0), # [MHz]\n",
    "        }\n",
    "A = \"freqA\"\n",
    "B = \"freqB\"\n",
    "config={\"out_ch\":out_chs,\n",
    "        \"reps\":1, # --Fixed\n",
    "        \"freqA\": freqA,\n",
    "        \"freqB\": freqB,\n",
    "        \"freq_seq\": [A,B,A,B],\n",
    "#         \"res_phase\": [180 ,180],\n",
    "#         \"pulse_gain\":[32000,32000],\n",
    "        \"time_seq\":[50, 190,370,700],\n",
    "        # pulse length: will be repeated periodically\n",
    "        \"length\":100, # [Clock ticks]\n",
    "        \"pulse_freq\":soccfg.adcfreq(1000, gen_ch=0, ro_ch=0), #readout freq\n",
    "        \"readout_length\": 2000, # [Clock ticks]\n",
    "        \n",
    "\n",
    "        \"adc_trig_offset\": 0, # [Clock ticks]\n",
    "        # Needs to be > 150 to avoid seeing the rising pulse flank\n",
    "\n",
    "        \"soft_avgs\":1,\n",
    "        # Try varying soft_avgs from 1 to 200 averages\n",
    "        \n",
    "        \"zone\": 1,  \n",
    "        # nyquist zone of generator\n",
    "        \n",
    "        \n",
    "        \"mode\": \"periodic\",\n",
    "        # to make CW output\n",
    "        \n",
    "        \n",
    "        #\"mode\": \"oneshot\"\n",
    "        # to make single shot output\n",
    "\n",
    "       }"
   ]
  },
  {
   "cell_type": "code",
   "execution_count": 21,
   "metadata": {},
   "outputs": [
    {
     "data": {
      "application/vnd.jupyter.widget-view+json": {
       "model_id": "c96c6bae61f04eb7b41496270f980203",
       "version_major": 2,
       "version_minor": 0
      },
      "text/plain": [
       "  0%|          | 0/1 [00:00<?, ?it/s]"
      ]
     },
     "metadata": {},
     "output_type": "display_data"
    },
    {
     "name": "stdout",
     "output_type": "stream",
     "text": [
      "freq_i = 999.999998 MHz, \n",
      "phi_i = (55.70, 222.64) deg, \n",
      "mag = (38.97, 38.92), \n",
      "RMS = (40.09, 39.96) ADU\n",
      "Phase difference of -166.93691804381118 deg\n"
     ]
    },
    {
     "data": {
      "image/png": "[encoded data removed]",
      "text/plain": [
       "<Figure size 432x288 with 1 Axes>"
      ]
     },
     "metadata": {
      "needs_background": "light"
     },
     "output_type": "display_data"
    }
   ],
   "source": [
    "prog = MultipleFreqProgram(soccfg, config)\n",
    "iq_list = prog.acquire_decimated(soc, load_pulses=True, progress=True, debug=False)\n",
    "\n",
    "# Plot results.\n",
    "plt.figure(1)\n",
    "for ii, iq in enumerate(iq_list):\n",
    "#     plt.plot(iq[0], label=\"I value, ADC %d\"%(config['out_ch'][ii]))\n",
    "#     plt.plot(iq[1], label=\"Q value, ADC %d\"%(config['out_ch'][ii]))\n",
    "    plt.plot(np.abs(iq[0]+1j*iq[1]), label=\"mag, ADC %d\"%(config['out_ch'][ii]))\n",
    "plt.ylabel(\"a.u.\")\n",
    "plt.xlabel(\"Clock ticks\")\n",
    "plt.title(\"Averages = \" + str(config[\"soft_avgs\"]))\n",
    "plt.legend()\n",
    "\n",
    "\n",
    "# to switch off output\n",
    "soc.reset_gens()\n",
    "\n",
    "\n",
    "# get the phase\n",
    "res = [calculate_phase(iq) for iq in iq_list]\n",
    "print_results(config['pulse_freq'], res)\n",
    "\n",
    "p_diff = res[0][0]-res[1][0]\n",
    "print('Phase difference of {:} deg'.format(p_diff))\n",
    "\n",
    "# if config['res_phase'] == [0, 0]:\n",
    "#     p_diff0 = p_diff.copy() \n"
   ]
  },
  {
   "cell_type": "code",
   "execution_count": 51,
   "metadata": {},
   "outputs": [],
   "source": [
    "# config={\"out_ch\":out_chs,\n",
    "#         \"reps\":1, # --Fixed\n",
    "#         \"res_phase\": [0,0] , # The phase of the signal\n",
    "        \n",
    "#         # pulse length: will be repeated periodically\n",
    "#         \"length\":500, # [Clock ticks]\n",
    "        \n",
    "#         \"readout_length\":400, # [Clock ticks]\n",
    "        \n",
    "\n",
    "#         \"pulse_gain\": [32000, 32000], # [DAC units]\n",
    "#         # Try varying pulse_gain from 500 to 30000 DAC units\n",
    "\n",
    "#         \"pulse_freq\": 1003, # [MHz]\n",
    "\n",
    "#         \"adc_trig_offset\": 170, # [Clock ticks]\n",
    "#         # Needs to be > 150 to avoid seeing the rising pulse flank\n",
    "\n",
    "#         \"soft_avgs\":1,\n",
    "#         # Try varying soft_avgs from 1 to 200 averages\n",
    "        \n",
    "#         \"zone\": 1,  \n",
    "#         # nyquist zone of generator\n",
    "        \n",
    "        \n",
    "#         \"mode\": \"periodic\",\n",
    "#         # to make CW output\n",
    "        \n",
    "        \n",
    "#         #\"mode\": \"oneshot\"\n",
    "#         # to make single shot output\n",
    "\n",
    "#        }"
   ]
  },
  {
   "cell_type": "code",
   "execution_count": 10,
   "metadata": {},
   "outputs": [],
   "source": [
    "# to switch off output\n",
    "soc.reset_gens()"
   ]
  },
  {
   "cell_type": "code",
   "execution_count": null,
   "metadata": {},
   "outputs": [],
   "source": []
  }
 ],
 "metadata": {
  "kernelspec": {
   "display_name": "Python 3",
   "language": "python",
   "name": "python3"
  },
  "language_info": {
   "codemirror_mode": {
    "name": "ipython",
    "version": 3
   },
   "file_extension": ".py",
   "mimetype": "text/x-python",
   "name": "python",
   "nbconvert_exporter": "python",
   "pygments_lexer": "ipython3",
   "version": "3.8.2"
  }
 },
 "nbformat": 4,
 "nbformat_minor": 4
}
