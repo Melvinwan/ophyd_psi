{
 "cells": [
  {
   "cell_type": "code",
   "execution_count": 11,
   "id": "7e6467e3",
   "metadata": {},
   "outputs": [],
   "source": [
    "from toptica_ophyd import LaserToptica"
   ]
  },
  {
   "cell_type": "code",
   "execution_count": 12,
   "id": "ae9c81e7",
   "metadata": {},
   "outputs": [
    {
     "name": "stdout",
     "output_type": "stream",
     "text": [
      "connecting to 129.129.98.110\n"
     ]
    }
   ],
   "source": [
    "LTDLC = LaserToptica(prefix=\"...\",name=\"LTDLC\", host=\"129.129.98.110\")\n",
    "# LTDLC.stage()\n",
    "# print(LTDLC.read())\n",
    "\n",
    "# print(LTDLC.get())\n",
    "# print(LTDLC.describe())\n"
   ]
  },
  {
   "cell_type": "code",
   "execution_count": 13,
   "id": "a28bff14",
   "metadata": {},
   "outputs": [
    {
     "name": "stdout",
     "output_type": "stream",
     "text": [
      "OrderedDict([('LTDLC_scan_end', {'value': 5.36, 'timestamp': 1685638210.5737443}), ('LTDLC_scan_start', {'value': 5.28, 'timestamp': 1685638210.5737443}), ('LTDLC_scan_offset', {'value': 5.32, 'timestamp': 1685638210.5737443}), ('LTDLC_scan_frequency', {'value': 29.39998618653432, 'timestamp': 1685638210.5737443}), ('LTDLC_ctl_wavelength_act', {'value': 1600.00003218651, 'timestamp': 1685638210.5737443})])\n"
     ]
    }
   ],
   "source": [
    "print(LTDLC.read())"
   ]
  },
  {
   "cell_type": "code",
   "execution_count": 14,
   "id": "7741057d",
   "metadata": {},
   "outputs": [
    {
     "name": "stdout",
     "output_type": "stream",
     "text": [
      "data keys (* hints)\n",
      "-------------------\n",
      " LTDLC_ctl_wavelength_act\n",
      "*LTDLC_scan_end\n",
      "*LTDLC_scan_frequency\n",
      " LTDLC_scan_offset\n",
      "*LTDLC_scan_start\n",
      "\n",
      "read attrs\n",
      "----------\n",
      "scan_end             LaserMainScanEnd    ('LTDLC_scan_end')\n",
      "scan_start           LaserMainScanStart  ('LTDLC_scan_start')\n",
      "scan_offset          LaserMainScanOffset ('LTDLC_scan_offset')\n",
      "scan_frequency       LaserMainScanFrequency('LTDLC_scan_frequency')\n",
      "ctl_wavelength_act   LaserMainCtlWavelengthAct('LTDLC_ctl_wavelength_act')\n",
      "\n",
      "config keys\n",
      "-----------\n",
      "\n",
      "configuration attrs\n",
      "-------------------\n",
      "\n",
      "unused attrs\n",
      "------------\n",
      "\n"
     ]
    }
   ],
   "source": [
    "LTDLC.summary()"
   ]
  },
  {
   "cell_type": "code",
   "execution_count": 15,
   "id": "4a143ef9",
   "metadata": {},
   "outputs": [
    {
     "name": "stdout",
     "output_type": "stream",
     "text": [
      "\n",
      "\n",
      "Transient Scan ID: 1     Time: 2023-06-01 18:50:15\n",
      "Persistent Unique Scan ID: 'e81a1b86-2bef-4f98-8ec2-748c5e07b685'\n",
      "\n",
      "\n",
      "\n"
     ]
    },
    {
     "name": "stderr",
     "output_type": "stream",
     "text": [
      "Run aborted\n",
      "Traceback (most recent call last):\n",
      "  File \"C:\\Users\\DanielM\\anaconda3\\envs\\psi-bluesky\\lib\\site-packages\\bluesky\\run_engine.py\", line 1365, in _run\n",
      "    msg = self._plan_stack[-1].send(resp)\n",
      "  File \"C:\\Users\\DanielM\\anaconda3\\envs\\psi-bluesky\\lib\\site-packages\\bluesky\\plans.py\", line 77, in count\n",
      "    return (yield from inner_count())\n",
      "  File \"C:\\Users\\DanielM\\anaconda3\\envs\\psi-bluesky\\lib\\site-packages\\bluesky\\utils.py\", line 1127, in dec_inner\n",
      "    return (yield from plan)\n",
      "  File \"C:\\Users\\DanielM\\anaconda3\\envs\\psi-bluesky\\lib\\site-packages\\bluesky\\preprocessors.py\", line 952, in stage_wrapper\n",
      "    return (yield from finalize_wrapper(inner(), unstage_devices()))\n",
      "  File \"C:\\Users\\DanielM\\anaconda3\\envs\\psi-bluesky\\lib\\site-packages\\bluesky\\preprocessors.py\", line 509, in finalize_wrapper\n",
      "    ret = yield from plan\n",
      "  File \"C:\\Users\\DanielM\\anaconda3\\envs\\psi-bluesky\\lib\\site-packages\\bluesky\\preprocessors.py\", line 950, in inner\n",
      "    return (yield from plan)\n",
      "  File \"C:\\Users\\DanielM\\anaconda3\\envs\\psi-bluesky\\lib\\site-packages\\bluesky\\utils.py\", line 1127, in dec_inner\n",
      "    return (yield from plan)\n",
      "  File \"C:\\Users\\DanielM\\anaconda3\\envs\\psi-bluesky\\lib\\site-packages\\bluesky\\preprocessors.py\", line 325, in run_wrapper\n",
      "    yield from contingency_wrapper(plan,\n",
      "  File \"C:\\Users\\DanielM\\anaconda3\\envs\\psi-bluesky\\lib\\site-packages\\bluesky\\preprocessors.py\", line 575, in contingency_wrapper\n",
      "    ret = yield from plan\n",
      "  File \"C:\\Users\\DanielM\\anaconda3\\envs\\psi-bluesky\\lib\\site-packages\\bluesky\\plans.py\", line 74, in inner_count\n",
      "    return (yield from bps.repeat(partial(per_shot, detectors),\n",
      "  File \"C:\\Users\\DanielM\\anaconda3\\envs\\psi-bluesky\\lib\\site-packages\\bluesky\\plan_stubs.py\", line 1183, in repeat\n",
      "    return (yield from repeated_plan())\n",
      "  File \"C:\\Users\\DanielM\\anaconda3\\envs\\psi-bluesky\\lib\\site-packages\\bluesky\\plan_stubs.py\", line 1166, in repeated_plan\n",
      "    yield from ensure_generator(plan())\n",
      "  File \"C:\\Users\\DanielM\\anaconda3\\envs\\psi-bluesky\\lib\\site-packages\\bluesky\\plan_stubs.py\", line 1026, in one_shot\n",
      "    yield from take_reading(list(detectors))\n",
      "  File \"C:\\Users\\DanielM\\anaconda3\\envs\\psi-bluesky\\lib\\site-packages\\bluesky\\plan_stubs.py\", line 911, in trigger_and_read\n",
      "    return (yield from rewindable_wrapper(inner_trigger_and_read(),\n",
      "  File \"C:\\Users\\DanielM\\anaconda3\\envs\\psi-bluesky\\lib\\site-packages\\bluesky\\preprocessors.py\", line 693, in rewindable_wrapper\n",
      "    return (yield from plan)\n",
      "  File \"C:\\Users\\DanielM\\anaconda3\\envs\\psi-bluesky\\lib\\site-packages\\bluesky\\plan_stubs.py\", line 905, in inner_trigger_and_read\n",
      "    reading = (yield from read(obj))\n",
      "  File \"C:\\Users\\DanielM\\anaconda3\\envs\\psi-bluesky\\lib\\site-packages\\bluesky\\plan_stubs.py\", line 95, in read\n",
      "    return (yield Msg('read', obj))\n",
      "  File \"C:\\Users\\DanielM\\anaconda3\\envs\\psi-bluesky\\lib\\site-packages\\bluesky\\run_engine.py\", line 1425, in _run\n",
      "    new_response = await coro(msg)\n",
      "  File \"C:\\Users\\DanielM\\anaconda3\\envs\\psi-bluesky\\lib\\site-packages\\bluesky\\run_engine.py\", line 1670, in _read\n",
      "    ret = obj.read(*msg.args, **msg.kwargs)\n",
      "  File \"C:\\Users\\DanielM\\anaconda3\\envs\\psi-bluesky\\lib\\site-packages\\ophyd\\device.py\", line 1237, in read\n",
      "    res.update(component.read())\n",
      "  File \"C:\\Users\\DanielM\\anaconda3\\envs\\psi-bluesky\\lib\\site-packages\\ophyd\\utils\\epics_pvs.py\", line 198, in wrapper\n",
      "    return fcn(self, *args, **kwargs)\n",
      "  File \"C:\\Users\\DanielM\\anaconda3\\envs\\psi-bluesky\\lib\\site-packages\\ophyd\\signal.py\", line 388, in read\n",
      "    value = self.get()\n",
      "  File \"C:\\Users\\DanielM\\ThinkSwiss PSI Summer 2023\\toptica_ophyd.py\", line 319, in get\n",
      "    self._readback = self._get()\n",
      "  File \"C:\\Users\\DanielM\\ThinkSwiss PSI Summer 2023\\toptica_ophyd.py\", line 383, in _get\n",
      "    return self.dlc.scan_end()\n",
      "  File \"C:\\Users\\DanielM\\ThinkSwiss PSI Summer 2023\\toptica_ophyd.py\", line 234, in scan_end\n",
      "    return self.dlc.laser1.scan.end.get()\n",
      "  File \"C:\\Users\\DanielM\\anaconda3\\envs\\psi-bluesky\\lib\\site-packages\\toptica\\lasersdk\\client.py\", line 945, in get\n",
      "    result = cast(float, self._client.get(self._name, float))\n",
      "  File \"C:\\Users\\DanielM\\anaconda3\\envs\\psi-bluesky\\lib\\site-packages\\toptica\\lasersdk\\client.py\", line 252, in get\n",
      "    return cast(DecopType, self._async_run(self._async_client.get(param_name, *param_types)))\n",
      "  File \"C:\\Users\\DanielM\\anaconda3\\envs\\psi-bluesky\\lib\\site-packages\\toptica\\lasersdk\\client.py\", line 473, in _async_run\n",
      "    return future.result()\n",
      "  File \"C:\\Users\\DanielM\\anaconda3\\envs\\psi-bluesky\\lib\\concurrent\\futures\\_base.py\", line 446, in result\n",
      "    return self.__get_result()\n",
      "  File \"C:\\Users\\DanielM\\anaconda3\\envs\\psi-bluesky\\lib\\concurrent\\futures\\_base.py\", line 391, in __get_result\n",
      "    raise self._exception\n",
      "  File \"C:\\Users\\DanielM\\anaconda3\\envs\\psi-bluesky\\lib\\site-packages\\toptica\\lasersdk\\client.py\", line 469, in _run_with_timeout\n",
      "    raise DeviceTimeoutError from None\n",
      "toptica.lasersdk.client.DeviceTimeoutError\n"
     ]
    },
    {
     "ename": "DeviceTimeoutError",
     "evalue": "",
     "output_type": "error",
     "traceback": [
      "\u001b[1;31m---------------------------------------------------------------------------\u001b[0m",
      "\u001b[1;31mDeviceTimeoutError\u001b[0m                        Traceback (most recent call last)",
      "Cell \u001b[1;32mIn[15], line 15\u001b[0m\n\u001b[0;32m     12\u001b[0m \u001b[38;5;66;03m# Insert all metadata/data captured into db.\u001b[39;00m\n\u001b[0;32m     13\u001b[0m RE\u001b[38;5;241m.\u001b[39msubscribe(db\u001b[38;5;241m.\u001b[39minsert)\n\u001b[1;32m---> 15\u001b[0m \u001b[43mRE\u001b[49m\u001b[43m(\u001b[49m\u001b[43mcount\u001b[49m\u001b[43m(\u001b[49m\u001b[43m[\u001b[49m\u001b[43mLTDLC\u001b[49m\u001b[43m]\u001b[49m\u001b[43m,\u001b[49m\u001b[43mnum\u001b[49m\u001b[38;5;241;43m=\u001b[39;49m\u001b[38;5;241;43m5\u001b[39;49m\u001b[43m)\u001b[49m\u001b[43m)\u001b[49m\n",
      "File \u001b[1;32m~\\anaconda3\\envs\\psi-bluesky\\lib\\site-packages\\bluesky\\run_engine.py:807\u001b[0m, in \u001b[0;36mRunEngine.__call__\u001b[1;34m(self, *args, **metadata_kw)\u001b[0m\n\u001b[0;32m    803\u001b[0m         \u001b[38;5;28mself\u001b[39m\u001b[38;5;241m.\u001b[39m_blocking_event\u001b[38;5;241m.\u001b[39mset()\n\u001b[0;32m    805\u001b[0m     \u001b[38;5;28mself\u001b[39m\u001b[38;5;241m.\u001b[39m_task_fut\u001b[38;5;241m.\u001b[39madd_done_callback(set_blocking_event)\n\u001b[1;32m--> 807\u001b[0m \u001b[38;5;28;43mself\u001b[39;49m\u001b[38;5;241;43m.\u001b[39;49m\u001b[43m_resume_task\u001b[49m\u001b[43m(\u001b[49m\u001b[43minit_func\u001b[49m\u001b[38;5;241;43m=\u001b[39;49m\u001b[43m_build_task\u001b[49m\u001b[43m)\u001b[49m\n\u001b[0;32m    809\u001b[0m \u001b[38;5;28;01mif\u001b[39;00m \u001b[38;5;28mself\u001b[39m\u001b[38;5;241m.\u001b[39m_interrupted:\n\u001b[0;32m    810\u001b[0m     \u001b[38;5;28;01mraise\u001b[39;00m RunEngineInterrupted(\u001b[38;5;28mself\u001b[39m\u001b[38;5;241m.\u001b[39mpause_msg) \u001b[38;5;28;01mfrom\u001b[39;00m \u001b[38;5;28;01mNone\u001b[39;00m\n",
      "File \u001b[1;32m~\\anaconda3\\envs\\psi-bluesky\\lib\\site-packages\\bluesky\\run_engine.py:931\u001b[0m, in \u001b[0;36mRunEngine._resume_task\u001b[1;34m(self, init_func)\u001b[0m\n\u001b[0;32m    927\u001b[0m \u001b[38;5;66;03m# if the main task exception is not None, re-raise\u001b[39;00m\n\u001b[0;32m    928\u001b[0m \u001b[38;5;66;03m# it (unless it is a canceled error)\u001b[39;00m\n\u001b[0;32m    929\u001b[0m \u001b[38;5;28;01mif\u001b[39;00m (exc \u001b[38;5;129;01mis\u001b[39;00m \u001b[38;5;129;01mnot\u001b[39;00m \u001b[38;5;28;01mNone\u001b[39;00m\n\u001b[0;32m    930\u001b[0m         \u001b[38;5;129;01mand\u001b[39;00m \u001b[38;5;129;01mnot\u001b[39;00m \u001b[38;5;28misinstance\u001b[39m(exc, _RunEnginePanic)):\n\u001b[1;32m--> 931\u001b[0m     \u001b[38;5;28;01mraise\u001b[39;00m exc\n",
      "File \u001b[1;32m~\\anaconda3\\envs\\psi-bluesky\\lib\\site-packages\\bluesky\\run_engine.py:1500\u001b[0m, in \u001b[0;36mRunEngine._run\u001b[1;34m(self)\u001b[0m\n\u001b[0;32m   1498\u001b[0m     exit_reason \u001b[38;5;241m=\u001b[39m \u001b[38;5;28mstr\u001b[39m(err)\n\u001b[0;32m   1499\u001b[0m     \u001b[38;5;28mself\u001b[39m\u001b[38;5;241m.\u001b[39mlog\u001b[38;5;241m.\u001b[39mexception(\u001b[38;5;124m\"\u001b[39m\u001b[38;5;124mRun aborted\u001b[39m\u001b[38;5;124m\"\u001b[39m)\n\u001b[1;32m-> 1500\u001b[0m     \u001b[38;5;28;01mraise\u001b[39;00m err\n\u001b[0;32m   1501\u001b[0m \u001b[38;5;28;01mfinally\u001b[39;00m:\n\u001b[0;32m   1502\u001b[0m     \u001b[38;5;28;01mif\u001b[39;00m \u001b[38;5;129;01mnot\u001b[39;00m exit_reason:\n",
      "File \u001b[1;32m~\\anaconda3\\envs\\psi-bluesky\\lib\\site-packages\\bluesky\\run_engine.py:1365\u001b[0m, in \u001b[0;36mRunEngine._run\u001b[1;34m(self)\u001b[0m\n\u001b[0;32m   1362\u001b[0m \u001b[38;5;66;03m# The normal case of clean operation\u001b[39;00m\n\u001b[0;32m   1363\u001b[0m \u001b[38;5;28;01melse\u001b[39;00m:\n\u001b[0;32m   1364\u001b[0m     \u001b[38;5;28;01mtry\u001b[39;00m:\n\u001b[1;32m-> 1365\u001b[0m         msg \u001b[38;5;241m=\u001b[39m \u001b[38;5;28;43mself\u001b[39;49m\u001b[38;5;241;43m.\u001b[39;49m\u001b[43m_plan_stack\u001b[49m\u001b[43m[\u001b[49m\u001b[38;5;241;43m-\u001b[39;49m\u001b[38;5;241;43m1\u001b[39;49m\u001b[43m]\u001b[49m\u001b[38;5;241;43m.\u001b[39;49m\u001b[43msend\u001b[49m\u001b[43m(\u001b[49m\u001b[43mresp\u001b[49m\u001b[43m)\u001b[49m\n\u001b[0;32m   1366\u001b[0m     \u001b[38;5;66;03m# We have exhausted the top generator\u001b[39;00m\n\u001b[0;32m   1367\u001b[0m     \u001b[38;5;28;01mexcept\u001b[39;00m \u001b[38;5;167;01mStopIteration\u001b[39;00m:\n\u001b[0;32m   1368\u001b[0m         \u001b[38;5;66;03m# pop the dead generator go back to the top\u001b[39;00m\n",
      "File \u001b[1;32m~\\anaconda3\\envs\\psi-bluesky\\lib\\site-packages\\bluesky\\plans.py:77\u001b[0m, in \u001b[0;36mcount\u001b[1;34m(detectors, num, delay, per_shot, md)\u001b[0m\n\u001b[0;32m     71\u001b[0m \u001b[38;5;129m@bpp\u001b[39m\u001b[38;5;241m.\u001b[39mstage_decorator(detectors)\n\u001b[0;32m     72\u001b[0m \u001b[38;5;129m@bpp\u001b[39m\u001b[38;5;241m.\u001b[39mrun_decorator(md\u001b[38;5;241m=\u001b[39m_md)\n\u001b[0;32m     73\u001b[0m \u001b[38;5;28;01mdef\u001b[39;00m \u001b[38;5;21minner_count\u001b[39m():\n\u001b[0;32m     74\u001b[0m     \u001b[38;5;28;01mreturn\u001b[39;00m (\u001b[38;5;28;01myield from\u001b[39;00m bps\u001b[38;5;241m.\u001b[39mrepeat(partial(per_shot, detectors),\n\u001b[0;32m     75\u001b[0m                                   num\u001b[38;5;241m=\u001b[39mnum, delay\u001b[38;5;241m=\u001b[39mdelay))\n\u001b[1;32m---> 77\u001b[0m \u001b[38;5;28;01mreturn\u001b[39;00m (\u001b[38;5;28;01myield from\u001b[39;00m inner_count())\n",
      "File \u001b[1;32m~\\anaconda3\\envs\\psi-bluesky\\lib\\site-packages\\bluesky\\utils.py:1127\u001b[0m, in \u001b[0;36mmake_decorator.<locals>.dec_outer.<locals>.dec.<locals>.dec_inner\u001b[1;34m(*inner_args, **inner_kwargs)\u001b[0m\n\u001b[0;32m   1125\u001b[0m plan \u001b[38;5;241m=\u001b[39m gen_func(\u001b[38;5;241m*\u001b[39minner_args, \u001b[38;5;241m*\u001b[39m\u001b[38;5;241m*\u001b[39minner_kwargs)\n\u001b[0;32m   1126\u001b[0m plan \u001b[38;5;241m=\u001b[39m wrapper(plan, \u001b[38;5;241m*\u001b[39margs, \u001b[38;5;241m*\u001b[39m\u001b[38;5;241m*\u001b[39mkwargs)\n\u001b[1;32m-> 1127\u001b[0m \u001b[38;5;28;01mreturn\u001b[39;00m (\u001b[38;5;28;01myield from\u001b[39;00m plan)\n",
      "File \u001b[1;32m~\\anaconda3\\envs\\psi-bluesky\\lib\\site-packages\\bluesky\\preprocessors.py:952\u001b[0m, in \u001b[0;36mstage_wrapper\u001b[1;34m(plan, devices)\u001b[0m\n\u001b[0;32m    949\u001b[0m     \u001b[38;5;28;01myield from\u001b[39;00m stage_devices()\n\u001b[0;32m    950\u001b[0m     \u001b[38;5;28;01mreturn\u001b[39;00m (\u001b[38;5;28;01myield from\u001b[39;00m plan)\n\u001b[1;32m--> 952\u001b[0m \u001b[38;5;28;01mreturn\u001b[39;00m (\u001b[38;5;28;01myield from\u001b[39;00m finalize_wrapper(inner(), unstage_devices()))\n",
      "File \u001b[1;32m~\\anaconda3\\envs\\psi-bluesky\\lib\\site-packages\\bluesky\\preprocessors.py:509\u001b[0m, in \u001b[0;36mfinalize_wrapper\u001b[1;34m(plan, final_plan, pause_for_debug)\u001b[0m\n\u001b[0;32m    507\u001b[0m cleanup \u001b[38;5;241m=\u001b[39m \u001b[38;5;28;01mTrue\u001b[39;00m\n\u001b[0;32m    508\u001b[0m \u001b[38;5;28;01mtry\u001b[39;00m:\n\u001b[1;32m--> 509\u001b[0m     ret \u001b[38;5;241m=\u001b[39m \u001b[38;5;28;01myield from\u001b[39;00m plan\n\u001b[0;32m    510\u001b[0m \u001b[38;5;28;01mexcept\u001b[39;00m \u001b[38;5;167;01mGeneratorExit\u001b[39;00m:\n\u001b[0;32m    511\u001b[0m     cleanup \u001b[38;5;241m=\u001b[39m \u001b[38;5;28;01mFalse\u001b[39;00m\n",
      "File \u001b[1;32m~\\anaconda3\\envs\\psi-bluesky\\lib\\site-packages\\bluesky\\preprocessors.py:950\u001b[0m, in \u001b[0;36mstage_wrapper.<locals>.inner\u001b[1;34m()\u001b[0m\n\u001b[0;32m    948\u001b[0m \u001b[38;5;28;01mdef\u001b[39;00m \u001b[38;5;21minner\u001b[39m():\n\u001b[0;32m    949\u001b[0m     \u001b[38;5;28;01myield from\u001b[39;00m stage_devices()\n\u001b[1;32m--> 950\u001b[0m     \u001b[38;5;28;01mreturn\u001b[39;00m (\u001b[38;5;28;01myield from\u001b[39;00m plan)\n",
      "File \u001b[1;32m~\\anaconda3\\envs\\psi-bluesky\\lib\\site-packages\\bluesky\\utils.py:1127\u001b[0m, in \u001b[0;36mmake_decorator.<locals>.dec_outer.<locals>.dec.<locals>.dec_inner\u001b[1;34m(*inner_args, **inner_kwargs)\u001b[0m\n\u001b[0;32m   1125\u001b[0m plan \u001b[38;5;241m=\u001b[39m gen_func(\u001b[38;5;241m*\u001b[39minner_args, \u001b[38;5;241m*\u001b[39m\u001b[38;5;241m*\u001b[39minner_kwargs)\n\u001b[0;32m   1126\u001b[0m plan \u001b[38;5;241m=\u001b[39m wrapper(plan, \u001b[38;5;241m*\u001b[39margs, \u001b[38;5;241m*\u001b[39m\u001b[38;5;241m*\u001b[39mkwargs)\n\u001b[1;32m-> 1127\u001b[0m \u001b[38;5;28;01mreturn\u001b[39;00m (\u001b[38;5;28;01myield from\u001b[39;00m plan)\n",
      "File \u001b[1;32m~\\anaconda3\\envs\\psi-bluesky\\lib\\site-packages\\bluesky\\preprocessors.py:325\u001b[0m, in \u001b[0;36mrun_wrapper\u001b[1;34m(plan, md)\u001b[0m\n\u001b[0;32m    322\u001b[0m     \u001b[38;5;28;01melse\u001b[39;00m:\n\u001b[0;32m    323\u001b[0m         \u001b[38;5;28;01myield from\u001b[39;00m close_run(exit_status\u001b[38;5;241m=\u001b[39m\u001b[38;5;124m'\u001b[39m\u001b[38;5;124mfail\u001b[39m\u001b[38;5;124m'\u001b[39m, reason\u001b[38;5;241m=\u001b[39m\u001b[38;5;28mstr\u001b[39m(e))\n\u001b[1;32m--> 325\u001b[0m \u001b[38;5;28;01myield from\u001b[39;00m contingency_wrapper(plan,\n\u001b[0;32m    326\u001b[0m                                except_plan\u001b[38;5;241m=\u001b[39mexcept_plan,\n\u001b[0;32m    327\u001b[0m                                else_plan\u001b[38;5;241m=\u001b[39mclose_run)\n\u001b[0;32m    328\u001b[0m \u001b[38;5;28;01mreturn\u001b[39;00m rs_uid\n",
      "File \u001b[1;32m~\\anaconda3\\envs\\psi-bluesky\\lib\\site-packages\\bluesky\\preprocessors.py:575\u001b[0m, in \u001b[0;36mcontingency_wrapper\u001b[1;34m(plan, except_plan, else_plan, final_plan, pause_for_debug)\u001b[0m\n\u001b[0;32m    573\u001b[0m cleanup \u001b[38;5;241m=\u001b[39m \u001b[38;5;28;01mTrue\u001b[39;00m\n\u001b[0;32m    574\u001b[0m \u001b[38;5;28;01mtry\u001b[39;00m:\n\u001b[1;32m--> 575\u001b[0m     ret \u001b[38;5;241m=\u001b[39m \u001b[38;5;28;01myield from\u001b[39;00m plan\n\u001b[0;32m    576\u001b[0m \u001b[38;5;28;01mexcept\u001b[39;00m \u001b[38;5;167;01mGeneratorExit\u001b[39;00m:\n\u001b[0;32m    577\u001b[0m     cleanup \u001b[38;5;241m=\u001b[39m \u001b[38;5;28;01mFalse\u001b[39;00m\n",
      "File \u001b[1;32m~\\anaconda3\\envs\\psi-bluesky\\lib\\site-packages\\bluesky\\plans.py:74\u001b[0m, in \u001b[0;36mcount.<locals>.inner_count\u001b[1;34m()\u001b[0m\n\u001b[0;32m     71\u001b[0m \u001b[38;5;129m@bpp\u001b[39m\u001b[38;5;241m.\u001b[39mstage_decorator(detectors)\n\u001b[0;32m     72\u001b[0m \u001b[38;5;129m@bpp\u001b[39m\u001b[38;5;241m.\u001b[39mrun_decorator(md\u001b[38;5;241m=\u001b[39m_md)\n\u001b[0;32m     73\u001b[0m \u001b[38;5;28;01mdef\u001b[39;00m \u001b[38;5;21minner_count\u001b[39m():\n\u001b[1;32m---> 74\u001b[0m     \u001b[38;5;28;01mreturn\u001b[39;00m (\u001b[38;5;28;01myield from\u001b[39;00m bps\u001b[38;5;241m.\u001b[39mrepeat(partial(per_shot, detectors),\n\u001b[0;32m     75\u001b[0m                                   num\u001b[38;5;241m=\u001b[39mnum, delay\u001b[38;5;241m=\u001b[39mdelay))\n",
      "File \u001b[1;32m~\\anaconda3\\envs\\psi-bluesky\\lib\\site-packages\\bluesky\\plan_stubs.py:1183\u001b[0m, in \u001b[0;36mrepeat\u001b[1;34m(plan, num, delay)\u001b[0m\n\u001b[0;32m   1180\u001b[0m             \u001b[38;5;28;01mif\u001b[39;00m d \u001b[38;5;241m>\u001b[39m \u001b[38;5;241m0\u001b[39m:  \u001b[38;5;66;03m# Sleep if and only if time is left to do it.\u001b[39;00m\n\u001b[0;32m   1181\u001b[0m                 \u001b[38;5;28;01myield\u001b[39;00m Msg(\u001b[38;5;124m'\u001b[39m\u001b[38;5;124msleep\u001b[39m\u001b[38;5;124m'\u001b[39m, \u001b[38;5;28;01mNone\u001b[39;00m, d)\n\u001b[1;32m-> 1183\u001b[0m \u001b[38;5;28;01mreturn\u001b[39;00m (\u001b[38;5;28;01myield from\u001b[39;00m repeated_plan())\n",
      "File \u001b[1;32m~\\anaconda3\\envs\\psi-bluesky\\lib\\site-packages\\bluesky\\plan_stubs.py:1166\u001b[0m, in \u001b[0;36mrepeat.<locals>.repeated_plan\u001b[1;34m()\u001b[0m\n\u001b[0;32m   1164\u001b[0m now \u001b[38;5;241m=\u001b[39m time\u001b[38;5;241m.\u001b[39mtime()  \u001b[38;5;66;03m# Intercept the flow in its earliest moment.\u001b[39;00m\n\u001b[0;32m   1165\u001b[0m \u001b[38;5;28;01myield\u001b[39;00m Msg(\u001b[38;5;124m'\u001b[39m\u001b[38;5;124mcheckpoint\u001b[39m\u001b[38;5;124m'\u001b[39m)\n\u001b[1;32m-> 1166\u001b[0m \u001b[38;5;28;01myield from\u001b[39;00m ensure_generator(plan())\n\u001b[0;32m   1167\u001b[0m \u001b[38;5;28;01mtry\u001b[39;00m:\n\u001b[0;32m   1168\u001b[0m     d \u001b[38;5;241m=\u001b[39m \u001b[38;5;28mnext\u001b[39m(delay)\n",
      "File \u001b[1;32m~\\anaconda3\\envs\\psi-bluesky\\lib\\site-packages\\bluesky\\plan_stubs.py:1026\u001b[0m, in \u001b[0;36mone_shot\u001b[1;34m(detectors, take_reading)\u001b[0m\n\u001b[0;32m   1006\u001b[0m \u001b[38;5;250m\u001b[39m\u001b[38;5;124;03m\"\"\"Inner loop of a count.\u001b[39;00m\n\u001b[0;32m   1007\u001b[0m \n\u001b[0;32m   1008\u001b[0m \u001b[38;5;124;03mThis is the default function for ``per_shot`` in count plans.\u001b[39;00m\n\u001b[1;32m   (...)\u001b[0m\n\u001b[0;32m   1023\u001b[0m \u001b[38;5;124;03m    Defaults to `trigger_and_read`\u001b[39;00m\n\u001b[0;32m   1024\u001b[0m \u001b[38;5;124;03m\"\"\"\u001b[39;00m\n\u001b[0;32m   1025\u001b[0m \u001b[38;5;28;01myield\u001b[39;00m Msg(\u001b[38;5;124m'\u001b[39m\u001b[38;5;124mcheckpoint\u001b[39m\u001b[38;5;124m'\u001b[39m)\n\u001b[1;32m-> 1026\u001b[0m \u001b[38;5;28;01myield from\u001b[39;00m take_reading(\u001b[38;5;28mlist\u001b[39m(detectors))\n",
      "File \u001b[1;32m~\\anaconda3\\envs\\psi-bluesky\\lib\\site-packages\\bluesky\\plan_stubs.py:911\u001b[0m, in \u001b[0;36mtrigger_and_read\u001b[1;34m(devices, name)\u001b[0m\n\u001b[0;32m    909\u001b[0m     \u001b[38;5;28;01mreturn\u001b[39;00m ret\n\u001b[0;32m    910\u001b[0m \u001b[38;5;28;01mfrom\u001b[39;00m \u001b[38;5;21;01m.\u001b[39;00m\u001b[38;5;21;01mpreprocessors\u001b[39;00m \u001b[38;5;28;01mimport\u001b[39;00m rewindable_wrapper\n\u001b[1;32m--> 911\u001b[0m \u001b[38;5;28;01mreturn\u001b[39;00m (\u001b[38;5;28;01myield from\u001b[39;00m rewindable_wrapper(inner_trigger_and_read(),\n\u001b[0;32m    912\u001b[0m                                       rewindable))\n",
      "File \u001b[1;32m~\\anaconda3\\envs\\psi-bluesky\\lib\\site-packages\\bluesky\\preprocessors.py:693\u001b[0m, in \u001b[0;36mrewindable_wrapper\u001b[1;34m(plan, rewindable)\u001b[0m\n\u001b[0;32m    690\u001b[0m     \u001b[38;5;28;01mreturn\u001b[39;00m (\u001b[38;5;28;01myield from\u001b[39;00m finalize_wrapper(plan,\n\u001b[0;32m    691\u001b[0m                                         restore_rewindable()))\n\u001b[0;32m    692\u001b[0m \u001b[38;5;28;01melse\u001b[39;00m:\n\u001b[1;32m--> 693\u001b[0m     \u001b[38;5;28;01mreturn\u001b[39;00m (\u001b[38;5;28;01myield from\u001b[39;00m plan)\n",
      "File \u001b[1;32m~\\anaconda3\\envs\\psi-bluesky\\lib\\site-packages\\bluesky\\plan_stubs.py:905\u001b[0m, in \u001b[0;36mtrigger_and_read.<locals>.inner_trigger_and_read\u001b[1;34m()\u001b[0m\n\u001b[0;32m    903\u001b[0m ret \u001b[38;5;241m=\u001b[39m {}  \u001b[38;5;66;03m# collect and return readings to give plan access to them\u001b[39;00m\n\u001b[0;32m    904\u001b[0m \u001b[38;5;28;01mfor\u001b[39;00m obj \u001b[38;5;129;01min\u001b[39;00m devices:\n\u001b[1;32m--> 905\u001b[0m     reading \u001b[38;5;241m=\u001b[39m (\u001b[38;5;28;01myield from\u001b[39;00m read(obj))\n\u001b[0;32m    906\u001b[0m     \u001b[38;5;28;01mif\u001b[39;00m reading \u001b[38;5;129;01mis\u001b[39;00m \u001b[38;5;129;01mnot\u001b[39;00m \u001b[38;5;28;01mNone\u001b[39;00m:\n\u001b[0;32m    907\u001b[0m         ret\u001b[38;5;241m.\u001b[39mupdate(reading)\n",
      "File \u001b[1;32m~\\anaconda3\\envs\\psi-bluesky\\lib\\site-packages\\bluesky\\plan_stubs.py:95\u001b[0m, in \u001b[0;36mread\u001b[1;34m(obj)\u001b[0m\n\u001b[0;32m     82\u001b[0m \u001b[38;5;28;01mdef\u001b[39;00m \u001b[38;5;21mread\u001b[39m(obj):\n\u001b[0;32m     83\u001b[0m \u001b[38;5;250m    \u001b[39m\u001b[38;5;124;03m\"\"\"\u001b[39;00m\n\u001b[0;32m     84\u001b[0m \u001b[38;5;124;03m    Take a reading and add it to the current bundle of readings.\u001b[39;00m\n\u001b[0;32m     85\u001b[0m \n\u001b[1;32m   (...)\u001b[0m\n\u001b[0;32m     93\u001b[0m \u001b[38;5;124;03m        Msg('read', obj)\u001b[39;00m\n\u001b[0;32m     94\u001b[0m \u001b[38;5;124;03m    \"\"\"\u001b[39;00m\n\u001b[1;32m---> 95\u001b[0m     \u001b[38;5;28;01mreturn\u001b[39;00m (\u001b[38;5;28;01myield\u001b[39;00m Msg(\u001b[38;5;124m'\u001b[39m\u001b[38;5;124mread\u001b[39m\u001b[38;5;124m'\u001b[39m, obj))\n",
      "File \u001b[1;32m~\\anaconda3\\envs\\psi-bluesky\\lib\\site-packages\\bluesky\\run_engine.py:1425\u001b[0m, in \u001b[0;36mRunEngine._run\u001b[1;34m(self)\u001b[0m\n\u001b[0;32m   1420\u001b[0m \u001b[38;5;66;03m# try to finally run the command the user asked for\u001b[39;00m\n\u001b[0;32m   1421\u001b[0m \u001b[38;5;28;01mtry\u001b[39;00m:\n\u001b[0;32m   1422\u001b[0m     \u001b[38;5;66;03m# this is one of two places that 'async'\u001b[39;00m\n\u001b[0;32m   1423\u001b[0m     \u001b[38;5;66;03m# exceptions (coming in via throw) can be\u001b[39;00m\n\u001b[0;32m   1424\u001b[0m     \u001b[38;5;66;03m# raised\u001b[39;00m\n\u001b[1;32m-> 1425\u001b[0m     new_response \u001b[38;5;241m=\u001b[39m \u001b[38;5;28;01mawait\u001b[39;00m coro(msg)\n\u001b[0;32m   1427\u001b[0m \u001b[38;5;66;03m# special case `CancelledError` and let the outer\u001b[39;00m\n\u001b[0;32m   1428\u001b[0m \u001b[38;5;66;03m# exception block deal with it.\u001b[39;00m\n\u001b[0;32m   1429\u001b[0m \u001b[38;5;28;01mexcept\u001b[39;00m asyncio\u001b[38;5;241m.\u001b[39mCancelledError:\n",
      "File \u001b[1;32m~\\anaconda3\\envs\\psi-bluesky\\lib\\site-packages\\bluesky\\run_engine.py:1670\u001b[0m, in \u001b[0;36mRunEngine._read\u001b[1;34m(self, msg)\u001b[0m\n\u001b[0;32m   1668\u001b[0m obj \u001b[38;5;241m=\u001b[39m msg\u001b[38;5;241m.\u001b[39mobj\n\u001b[0;32m   1669\u001b[0m \u001b[38;5;66;03m# actually _read_ the object\u001b[39;00m\n\u001b[1;32m-> 1670\u001b[0m ret \u001b[38;5;241m=\u001b[39m obj\u001b[38;5;241m.\u001b[39mread(\u001b[38;5;241m*\u001b[39mmsg\u001b[38;5;241m.\u001b[39margs, \u001b[38;5;241m*\u001b[39m\u001b[38;5;241m*\u001b[39mmsg\u001b[38;5;241m.\u001b[39mkwargs)\n\u001b[0;32m   1672\u001b[0m \u001b[38;5;28;01mif\u001b[39;00m ret \u001b[38;5;129;01mis\u001b[39;00m \u001b[38;5;28;01mNone\u001b[39;00m:\n\u001b[0;32m   1673\u001b[0m     \u001b[38;5;28;01mraise\u001b[39;00m \u001b[38;5;167;01mRuntimeError\u001b[39;00m(\n\u001b[0;32m   1674\u001b[0m         \u001b[38;5;124mf\u001b[39m\u001b[38;5;124m\"\u001b[39m\u001b[38;5;124mThe read of \u001b[39m\u001b[38;5;132;01m{\u001b[39;00mobj\u001b[38;5;241m.\u001b[39mname\u001b[38;5;132;01m}\u001b[39;00m\u001b[38;5;124m returned None. \u001b[39m\u001b[38;5;124m\"\u001b[39m\n\u001b[0;32m   1675\u001b[0m         \u001b[38;5;124m\"\u001b[39m\u001b[38;5;124mThis is a bug in your object implementation, \u001b[39m\u001b[38;5;124m\"\u001b[39m\n\u001b[0;32m   1676\u001b[0m         \u001b[38;5;124m\"\u001b[39m\u001b[38;5;124m`read` must return a dictionary.\u001b[39m\u001b[38;5;124m\"\u001b[39m)\n",
      "File \u001b[1;32m~\\anaconda3\\envs\\psi-bluesky\\lib\\site-packages\\ophyd\\device.py:1237\u001b[0m, in \u001b[0;36mDevice.read\u001b[1;34m(self)\u001b[0m\n\u001b[0;32m   1234\u001b[0m res \u001b[38;5;241m=\u001b[39m \u001b[38;5;28msuper\u001b[39m()\u001b[38;5;241m.\u001b[39mread()\n\u001b[0;32m   1236\u001b[0m \u001b[38;5;28;01mfor\u001b[39;00m _, component \u001b[38;5;129;01min\u001b[39;00m \u001b[38;5;28mself\u001b[39m\u001b[38;5;241m.\u001b[39m_get_components_of_kind(Kind\u001b[38;5;241m.\u001b[39mnormal):\n\u001b[1;32m-> 1237\u001b[0m     res\u001b[38;5;241m.\u001b[39mupdate(\u001b[43mcomponent\u001b[49m\u001b[38;5;241;43m.\u001b[39;49m\u001b[43mread\u001b[49m\u001b[43m(\u001b[49m\u001b[43m)\u001b[49m)\n\u001b[0;32m   1238\u001b[0m \u001b[38;5;28;01mreturn\u001b[39;00m res\n",
      "File \u001b[1;32m~\\anaconda3\\envs\\psi-bluesky\\lib\\site-packages\\ophyd\\utils\\epics_pvs.py:198\u001b[0m, in \u001b[0;36mraise_if_disconnected.<locals>.wrapper\u001b[1;34m(self, *args, **kwargs)\u001b[0m\n\u001b[0;32m    195\u001b[0m \u001b[38;5;129m@functools\u001b[39m\u001b[38;5;241m.\u001b[39mwraps(fcn)\n\u001b[0;32m    196\u001b[0m \u001b[38;5;28;01mdef\u001b[39;00m \u001b[38;5;21mwrapper\u001b[39m(\u001b[38;5;28mself\u001b[39m, \u001b[38;5;241m*\u001b[39margs, \u001b[38;5;241m*\u001b[39m\u001b[38;5;241m*\u001b[39mkwargs):\n\u001b[0;32m    197\u001b[0m     \u001b[38;5;28;01mif\u001b[39;00m \u001b[38;5;28mself\u001b[39m\u001b[38;5;241m.\u001b[39mconnected:\n\u001b[1;32m--> 198\u001b[0m         \u001b[38;5;28;01mreturn\u001b[39;00m fcn(\u001b[38;5;28mself\u001b[39m, \u001b[38;5;241m*\u001b[39margs, \u001b[38;5;241m*\u001b[39m\u001b[38;5;241m*\u001b[39mkwargs)\n\u001b[0;32m    199\u001b[0m     \u001b[38;5;28;01melse\u001b[39;00m:\n\u001b[0;32m    200\u001b[0m         \u001b[38;5;28;01mraise\u001b[39;00m DisconnectedError(\u001b[38;5;124m'\u001b[39m\u001b[38;5;132;01m{}\u001b[39;00m\u001b[38;5;124m is not connected\u001b[39m\u001b[38;5;124m'\u001b[39m\u001b[38;5;241m.\u001b[39mformat(\u001b[38;5;28mself\u001b[39m\u001b[38;5;241m.\u001b[39mname))\n",
      "File \u001b[1;32m~\\anaconda3\\envs\\psi-bluesky\\lib\\site-packages\\ophyd\\signal.py:388\u001b[0m, in \u001b[0;36mSignal.read\u001b[1;34m(self)\u001b[0m\n\u001b[0;32m    379\u001b[0m \u001b[38;5;129m@raise_if_disconnected\u001b[39m\n\u001b[0;32m    380\u001b[0m \u001b[38;5;28;01mdef\u001b[39;00m \u001b[38;5;21mread\u001b[39m(\u001b[38;5;28mself\u001b[39m):\n\u001b[0;32m    381\u001b[0m \u001b[38;5;250m    \u001b[39m\u001b[38;5;124;03m'''Put the status of the signal into a simple dictionary format\u001b[39;00m\n\u001b[0;32m    382\u001b[0m \u001b[38;5;124;03m    for data acquisition\u001b[39;00m\n\u001b[0;32m    383\u001b[0m \n\u001b[1;32m   (...)\u001b[0m\n\u001b[0;32m    386\u001b[0m \u001b[38;5;124;03m        dict\u001b[39;00m\n\u001b[0;32m    387\u001b[0m \u001b[38;5;124;03m    '''\u001b[39;00m\n\u001b[1;32m--> 388\u001b[0m     value \u001b[38;5;241m=\u001b[39m \u001b[38;5;28;43mself\u001b[39;49m\u001b[38;5;241;43m.\u001b[39;49m\u001b[43mget\u001b[49m\u001b[43m(\u001b[49m\u001b[43m)\u001b[49m\n\u001b[0;32m    389\u001b[0m     \u001b[38;5;28;01mreturn\u001b[39;00m {\u001b[38;5;28mself\u001b[39m\u001b[38;5;241m.\u001b[39mname: {\u001b[38;5;124m'\u001b[39m\u001b[38;5;124mvalue\u001b[39m\u001b[38;5;124m'\u001b[39m: value,\n\u001b[0;32m    390\u001b[0m                         \u001b[38;5;124m'\u001b[39m\u001b[38;5;124mtimestamp\u001b[39m\u001b[38;5;124m'\u001b[39m: \u001b[38;5;28mself\u001b[39m\u001b[38;5;241m.\u001b[39mtimestamp}}\n",
      "File \u001b[1;32m~\\ThinkSwiss PSI Summer 2023\\toptica_ophyd.py:319\u001b[0m, in \u001b[0;36mLaserSignalBase.get\u001b[1;34m(self)\u001b[0m\n\u001b[0;32m    318\u001b[0m \u001b[38;5;28;01mdef\u001b[39;00m \u001b[38;5;21mget\u001b[39m(\u001b[38;5;28mself\u001b[39m):\n\u001b[1;32m--> 319\u001b[0m     \u001b[38;5;28mself\u001b[39m\u001b[38;5;241m.\u001b[39m_readback \u001b[38;5;241m=\u001b[39m \u001b[38;5;28;43mself\u001b[39;49m\u001b[38;5;241;43m.\u001b[39;49m\u001b[43m_get\u001b[49m\u001b[43m(\u001b[49m\u001b[43m)\u001b[49m\n\u001b[0;32m    320\u001b[0m     \u001b[38;5;28;01mreturn\u001b[39;00m \u001b[38;5;28mself\u001b[39m\u001b[38;5;241m.\u001b[39m_readback\n",
      "File \u001b[1;32m~\\ThinkSwiss PSI Summer 2023\\toptica_ophyd.py:383\u001b[0m, in \u001b[0;36mLaserMainScanEnd._get\u001b[1;34m(self)\u001b[0m\n\u001b[0;32m    382\u001b[0m \u001b[38;5;28;01mdef\u001b[39;00m \u001b[38;5;21m_get\u001b[39m(\u001b[38;5;28mself\u001b[39m):\n\u001b[1;32m--> 383\u001b[0m     \u001b[38;5;28;01mreturn\u001b[39;00m \u001b[38;5;28;43mself\u001b[39;49m\u001b[38;5;241;43m.\u001b[39;49m\u001b[43mdlc\u001b[49m\u001b[38;5;241;43m.\u001b[39;49m\u001b[43mscan_end\u001b[49m\u001b[43m(\u001b[49m\u001b[43m)\u001b[49m\n",
      "File \u001b[1;32m~\\ThinkSwiss PSI Summer 2023\\toptica_ophyd.py:234\u001b[0m, in \u001b[0;36mLaserController.scan_end\u001b[1;34m(self)\u001b[0m\n\u001b[0;32m    233\u001b[0m \u001b[38;5;28;01mdef\u001b[39;00m \u001b[38;5;21mscan_end\u001b[39m(\u001b[38;5;28mself\u001b[39m):\n\u001b[1;32m--> 234\u001b[0m     \u001b[38;5;28;01mreturn\u001b[39;00m \u001b[38;5;28;43mself\u001b[39;49m\u001b[38;5;241;43m.\u001b[39;49m\u001b[43mdlc\u001b[49m\u001b[38;5;241;43m.\u001b[39;49m\u001b[43mlaser1\u001b[49m\u001b[38;5;241;43m.\u001b[39;49m\u001b[43mscan\u001b[49m\u001b[38;5;241;43m.\u001b[39;49m\u001b[43mend\u001b[49m\u001b[38;5;241;43m.\u001b[39;49m\u001b[43mget\u001b[49m\u001b[43m(\u001b[49m\u001b[43m)\u001b[49m\n",
      "File \u001b[1;32m~\\anaconda3\\envs\\psi-bluesky\\lib\\site-packages\\toptica\\lasersdk\\client.py:945\u001b[0m, in \u001b[0;36mMutableDecopReal.get\u001b[1;34m(self)\u001b[0m\n\u001b[0;32m    938\u001b[0m \u001b[38;5;28;01mdef\u001b[39;00m \u001b[38;5;21mget\u001b[39m(\u001b[38;5;28mself\u001b[39m) \u001b[38;5;241m-\u001b[39m\u001b[38;5;241m>\u001b[39m \u001b[38;5;28mfloat\u001b[39m:\n\u001b[0;32m    939\u001b[0m \u001b[38;5;250m    \u001b[39m\u001b[38;5;124;03m\"\"\"Returns the current value of the parameter.\u001b[39;00m\n\u001b[0;32m    940\u001b[0m \n\u001b[0;32m    941\u001b[0m \u001b[38;5;124;03m    Returns:\u001b[39;00m\n\u001b[0;32m    942\u001b[0m \u001b[38;5;124;03m        float: The current value of the parameter.\u001b[39;00m\n\u001b[0;32m    943\u001b[0m \n\u001b[0;32m    944\u001b[0m \u001b[38;5;124;03m    \"\"\"\u001b[39;00m\n\u001b[1;32m--> 945\u001b[0m     result \u001b[38;5;241m=\u001b[39m cast(\u001b[38;5;28mfloat\u001b[39m, \u001b[38;5;28;43mself\u001b[39;49m\u001b[38;5;241;43m.\u001b[39;49m\u001b[43m_client\u001b[49m\u001b[38;5;241;43m.\u001b[39;49m\u001b[43mget\u001b[49m\u001b[43m(\u001b[49m\u001b[38;5;28;43mself\u001b[39;49m\u001b[38;5;241;43m.\u001b[39;49m\u001b[43m_name\u001b[49m\u001b[43m,\u001b[49m\u001b[43m \u001b[49m\u001b[38;5;28;43mfloat\u001b[39;49m\u001b[43m)\u001b[49m)\n\u001b[0;32m    946\u001b[0m     \u001b[38;5;28;01mreturn\u001b[39;00m result\n",
      "File \u001b[1;32m~\\anaconda3\\envs\\psi-bluesky\\lib\\site-packages\\toptica\\lasersdk\\client.py:252\u001b[0m, in \u001b[0;36mClient.get\u001b[1;34m(self, param_name, *param_types)\u001b[0m\n\u001b[0;32m    249\u001b[0m \u001b[38;5;28;01mif\u001b[39;00m \u001b[38;5;129;01mnot\u001b[39;00m \u001b[38;5;28mself\u001b[39m\u001b[38;5;241m.\u001b[39mcommand_line_available:\n\u001b[0;32m    250\u001b[0m     \u001b[38;5;28;01mraise\u001b[39;00m UnavailableError(\u001b[38;5;124m'\u001b[39m\u001b[38;5;124mThe command line of the client connection is not available.\u001b[39m\u001b[38;5;124m'\u001b[39m)\n\u001b[1;32m--> 252\u001b[0m \u001b[38;5;28;01mreturn\u001b[39;00m cast(DecopType, \u001b[38;5;28;43mself\u001b[39;49m\u001b[38;5;241;43m.\u001b[39;49m\u001b[43m_async_run\u001b[49m\u001b[43m(\u001b[49m\u001b[38;5;28;43mself\u001b[39;49m\u001b[38;5;241;43m.\u001b[39;49m\u001b[43m_async_client\u001b[49m\u001b[38;5;241;43m.\u001b[39;49m\u001b[43mget\u001b[49m\u001b[43m(\u001b[49m\u001b[43mparam_name\u001b[49m\u001b[43m,\u001b[49m\u001b[43m \u001b[49m\u001b[38;5;241;43m*\u001b[39;49m\u001b[43mparam_types\u001b[49m\u001b[43m)\u001b[49m\u001b[43m)\u001b[49m)\n",
      "File \u001b[1;32m~\\anaconda3\\envs\\psi-bluesky\\lib\\site-packages\\toptica\\lasersdk\\client.py:473\u001b[0m, in \u001b[0;36mClient._async_run\u001b[1;34m(self, coro)\u001b[0m\n\u001b[0;32m    471\u001b[0m \u001b[38;5;28;01mif\u001b[39;00m \u001b[38;5;28mself\u001b[39m\u001b[38;5;241m.\u001b[39m_loop \u001b[38;5;129;01mis\u001b[39;00m \u001b[38;5;129;01mnot\u001b[39;00m \u001b[38;5;28;01mNone\u001b[39;00m:\n\u001b[0;32m    472\u001b[0m     future \u001b[38;5;241m=\u001b[39m asyncio\u001b[38;5;241m.\u001b[39mrun_coroutine_threadsafe(_run_with_timeout(coro), \u001b[38;5;28mself\u001b[39m\u001b[38;5;241m.\u001b[39m_loop)\n\u001b[1;32m--> 473\u001b[0m     \u001b[38;5;28;01mreturn\u001b[39;00m \u001b[43mfuture\u001b[49m\u001b[38;5;241;43m.\u001b[39;49m\u001b[43mresult\u001b[49m\u001b[43m(\u001b[49m\u001b[43m)\u001b[49m\n",
      "File \u001b[1;32m~\\anaconda3\\envs\\psi-bluesky\\lib\\concurrent\\futures\\_base.py:446\u001b[0m, in \u001b[0;36mFuture.result\u001b[1;34m(self, timeout)\u001b[0m\n\u001b[0;32m    444\u001b[0m     \u001b[38;5;28;01mraise\u001b[39;00m CancelledError()\n\u001b[0;32m    445\u001b[0m \u001b[38;5;28;01melif\u001b[39;00m \u001b[38;5;28mself\u001b[39m\u001b[38;5;241m.\u001b[39m_state \u001b[38;5;241m==\u001b[39m FINISHED:\n\u001b[1;32m--> 446\u001b[0m     \u001b[38;5;28;01mreturn\u001b[39;00m \u001b[38;5;28;43mself\u001b[39;49m\u001b[38;5;241;43m.\u001b[39;49m\u001b[43m__get_result\u001b[49m\u001b[43m(\u001b[49m\u001b[43m)\u001b[49m\n\u001b[0;32m    447\u001b[0m \u001b[38;5;28;01melse\u001b[39;00m:\n\u001b[0;32m    448\u001b[0m     \u001b[38;5;28;01mraise\u001b[39;00m \u001b[38;5;167;01mTimeoutError\u001b[39;00m()\n",
      "File \u001b[1;32m~\\anaconda3\\envs\\psi-bluesky\\lib\\concurrent\\futures\\_base.py:391\u001b[0m, in \u001b[0;36mFuture.__get_result\u001b[1;34m(self)\u001b[0m\n\u001b[0;32m    389\u001b[0m \u001b[38;5;28;01mif\u001b[39;00m \u001b[38;5;28mself\u001b[39m\u001b[38;5;241m.\u001b[39m_exception:\n\u001b[0;32m    390\u001b[0m     \u001b[38;5;28;01mtry\u001b[39;00m:\n\u001b[1;32m--> 391\u001b[0m         \u001b[38;5;28;01mraise\u001b[39;00m \u001b[38;5;28mself\u001b[39m\u001b[38;5;241m.\u001b[39m_exception\n\u001b[0;32m    392\u001b[0m     \u001b[38;5;28;01mfinally\u001b[39;00m:\n\u001b[0;32m    393\u001b[0m         \u001b[38;5;66;03m# Break a reference cycle with the exception in self._exception\u001b[39;00m\n\u001b[0;32m    394\u001b[0m         \u001b[38;5;28mself\u001b[39m \u001b[38;5;241m=\u001b[39m \u001b[38;5;28;01mNone\u001b[39;00m\n",
      "File \u001b[1;32m~\\anaconda3\\envs\\psi-bluesky\\lib\\site-packages\\toptica\\lasersdk\\client.py:469\u001b[0m, in \u001b[0;36mClient._async_run.<locals>._run_with_timeout\u001b[1;34m(_coro)\u001b[0m\n\u001b[0;32m    467\u001b[0m     \u001b[38;5;28;01mreturn\u001b[39;00m \u001b[38;5;28;01mawait\u001b[39;00m asyncio\u001b[38;5;241m.\u001b[39mwait_for(_coro, \u001b[38;5;28mself\u001b[39m\u001b[38;5;241m.\u001b[39m_connection\u001b[38;5;241m.\u001b[39mtimeout)\n\u001b[0;32m    468\u001b[0m \u001b[38;5;28;01mexcept\u001b[39;00m asyncio\u001b[38;5;241m.\u001b[39mTimeoutError:\n\u001b[1;32m--> 469\u001b[0m     \u001b[38;5;28;01mraise\u001b[39;00m DeviceTimeoutError \u001b[38;5;28;01mfrom\u001b[39;00m \u001b[38;5;28;01mNone\u001b[39;00m\n",
      "\u001b[1;31mDeviceTimeoutError\u001b[0m: "
     ]
    }
   ],
   "source": [
    "from bluesky import RunEngine\n",
    "from bluesky.plans import count\n",
    "from bluesky.callbacks.best_effort import BestEffortCallback\n",
    "RE = RunEngine({})\n",
    "bec = BestEffortCallback()\n",
    "\n",
    "# Send all metadata/data captured to the BestEffortCallback.\n",
    "RE.subscribe(bec)\n",
    "from databroker import Broker\n",
    "db = Broker.named('temp')\n",
    "\n",
    "# Insert all metadata/data captured into db.\n",
    "RE.subscribe(db.insert)\n",
    "\n",
    "RE(count([LTDLC],num=5))"
   ]
  },
  {
   "cell_type": "code",
   "execution_count": null,
   "id": "234facb7",
   "metadata": {},
   "outputs": [],
   "source": [
    "from ophyd.sim import det1, det2  # two simulated detectors\n",
    "from bluesky.plans import count\n",
    "dets = [det1, det2]   # a list of any number of detectors\n",
    "\n",
    "RE(count(dets))"
   ]
  },
  {
   "cell_type": "code",
   "execution_count": 6,
   "id": "e8abb07c",
   "metadata": {},
   "outputs": [],
   "source": [
    "import bluesky.plans as bp\n",
    "from bluesky.plan_stubs import mv\n",
    "\n",
    "def load_sample(LTDLC):\n",
    "#     yield from mv(LTDLC.scan_offset, 0)\n",
    "    yield from mv(LTDLC.ctl_wavelength_act, 1600)\n",
    "    yield from mv(LTDLC.scan_end, 70)\n",
    "    yield from mv(LTDLC.scan_start, 50)\n",
    "    yield from mv(LTDLC.scan_frequency, 10)\n",
    "\n",
    "def robot_plan():\n",
    "    # load the sample\n",
    "    yield from load_sample(LTDLC)\n",
    "    # take a measurement\n",
    "#     yield from bp.count([LTDLC])"
   ]
  },
  {
   "cell_type": "code",
   "execution_count": 1,
   "id": "cb672d29",
   "metadata": {},
   "outputs": [
    {
     "ename": "NameError",
     "evalue": "name 'laser_plan' is not defined",
     "output_type": "error",
     "traceback": [
      "\u001b[1;31m---------------------------------------------------------------------------\u001b[0m",
      "\u001b[1;31mNameError\u001b[0m                                 Traceback (most recent call last)",
      "Cell \u001b[1;32mIn[1], line 4\u001b[0m\n\u001b[0;32m      1\u001b[0m \u001b[38;5;28;01mfrom\u001b[39;00m \u001b[38;5;21;01mbluesky\u001b[39;00m \u001b[38;5;28;01mimport\u001b[39;00m RunEngine\n\u001b[0;32m      3\u001b[0m RE \u001b[38;5;241m=\u001b[39m RunEngine({})\n\u001b[1;32m----> 4\u001b[0m RE(\u001b[43mlaser_plan\u001b[49m())\n",
      "\u001b[1;31mNameError\u001b[0m: name 'laser_plan' is not defined"
     ]
    }
   ],
   "source": [
    "from bluesky import RunEngine\n",
    "\n",
    "RE = RunEngine({})\n",
    "RE(laser_plan())"
   ]
  },
  {
   "cell_type": "code",
   "execution_count": 9,
   "id": "f804e1e4",
   "metadata": {},
   "outputs": [
    {
     "data": {
      "text/plain": [
       "[LaserToptica(prefix='...', name='LTDLC', read_attrs=['scan_end', 'scan_start', 'scan_offset', 'scan_frequency', 'ctl_wavelength_act'], configuration_attrs=[])]"
      ]
     },
     "execution_count": 9,
     "metadata": {},
     "output_type": "execute_result"
    }
   ],
   "source": [
    "LTDLC.unstage()"
   ]
  },
  {
   "cell_type": "code",
   "execution_count": null,
   "id": "71e5bd4b",
   "metadata": {},
   "outputs": [],
   "source": []
  }
 ],
 "metadata": {
  "kernelspec": {
   "display_name": "Python [conda env:psi-bluesky]",
   "language": "python",
   "name": "conda-env-psi-bluesky-py"
  },
  "language_info": {
   "codemirror_mode": {
    "name": "ipython",
    "version": 3
   },
   "file_extension": ".py",
   "mimetype": "text/x-python",
   "name": "python",
   "nbconvert_exporter": "python",
   "pygments_lexer": "ipython3",
   "version": "3.9.16"
  }
 },
 "nbformat": 4,
 "nbformat_minor": 5
}
