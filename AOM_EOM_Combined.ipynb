{
 "cells": [
  {
   "cell_type": "code",
   "execution_count": 1,
   "metadata": {},
   "outputs": [
    {
     "data": {
      "application/javascript": [
       "\n",
       "try {\n",
       "require(['notebook/js/codecell'], function(codecell) {\n",
       "  codecell.CodeCell.options_default.highlight_modes[\n",
       "      'magic_text/x-csrc'] = {'reg':[/^%%microblaze/]};\n",
       "  Jupyter.notebook.events.one('kernel_ready.Kernel', function(){\n",
       "      Jupyter.notebook.get_cells().map(function(cell){\n",
       "          if (cell.cell_type == 'code'){ cell.auto_highlight(); } }) ;\n",
       "  });\n",
       "});\n",
       "} catch (e) {};\n"
      ]
     },
     "metadata": {},
     "output_type": "display_data"
    },
    {
     "data": {
      "application/javascript": [
       "\n",
       "try {\n",
       "require(['notebook/js/codecell'], function(codecell) {\n",
       "  codecell.CodeCell.options_default.highlight_modes[\n",
       "      'magic_text/x-csrc'] = {'reg':[/^%%pybind11/]};\n",
       "  Jupyter.notebook.events.one('kernel_ready.Kernel', function(){\n",
       "      Jupyter.notebook.get_cells().map(function(cell){\n",
       "          if (cell.cell_type == 'code'){ cell.auto_highlight(); } }) ;\n",
       "  });\n",
       "});\n",
       "} catch (e) {};\n"
      ]
     },
     "metadata": {},
     "output_type": "display_data"
    },
    {
     "name": "stdout",
     "output_type": "stream",
     "text": [
      "Populating the interactive namespace from numpy and matplotlib\n"
     ]
    }
   ],
   "source": [
    "# Import the QICK drivers and auxiliary libraries\n",
    "from qick import *\n",
    "from qick.parser import load_program\n",
    "from sequence import sequence_TTL\n",
    "%pylab inline"
   ]
  },
  {
   "cell_type": "code",
   "execution_count": 2,
   "metadata": {},
   "outputs": [
    {
     "name": "stdout",
     "output_type": "stream",
     "text": [
      "\n",
      "QICK configuration:\n",
      "\n",
      "\tBoard: RFSoC4x2\n",
      "\n",
      "\tGlobal clocks (MHz): tProcessor 350.000, RF reference 491.520\n",
      "\n",
      "\t2 signal generator channels:\n",
      "\t0:\taxis_signal_gen_v6 - tProc output 0, envelope memory 65536 samples\n",
      "\t\tDAC tile 0, ch 0, 32-bit DDS, fabric=614.400 MHz, fs=9830.400 MHz\n",
      "\t1:\taxis_signal_gen_v6 - tProc output 1, envelope memory 65536 samples\n",
      "\t\tDAC tile 2, ch 0, 32-bit DDS, fabric=614.400 MHz, fs=9830.400 MHz\n",
      "\n",
      "\t2 readout channels:\n",
      "\t0:\taxis_readout_v2 - controlled by PYNQ\n",
      "\t\tADC tile 0, ch 0, 32-bit DDS, fabric=491.520 MHz, fs=3932.160 MHz\n",
      "\t\tmaxlen 1024 (avg) 16384 (decimated), trigger bit 4, tProc input 0\n",
      "\t1:\taxis_readout_v2 - controlled by PYNQ\n",
      "\t\tADC tile 0, ch 1, 32-bit DDS, fabric=491.520 MHz, fs=3932.160 MHz\n",
      "\t\tmaxlen 1024 (avg) 16384 (decimated), trigger bit 5, tProc input 1\n",
      "\n",
      "\t2 DACs:\n",
      "\t\tDAC tile 0, ch 0 is DAC_B\n",
      "\t\tDAC tile 2, ch 0 is DAC_A\n",
      "\n",
      "\t2 ADCs:\n",
      "\t\tADC tile 0, ch 0 is ADC_D\n",
      "\t\tADC tile 0, ch 1 is ADC_C\n",
      "\n",
      "\t4 digital output pins (tProc output 7):\n",
      "\t0:\tPMOD0_0\n",
      "\t1:\tPMOD0_1\n",
      "\t2:\tPMOD0_2\n",
      "\t3:\tPMOD0_3\n",
      "\n",
      "\ttProc: program memory 1024 words, data memory 1024 words\n",
      "\t\texternal start pin: None\n"
     ]
    }
   ],
   "source": [
    "# Load bitstream with custom overlay\n",
    "soc = QickSoc()\n",
    "\n",
    "soccfg = soc\n",
    "print(soccfg)\n",
    "out_chs = [0,1]"
   ]
  },
  {
   "cell_type": "code",
   "execution_count": 3,
   "metadata": {},
   "outputs": [],
   "source": [
    "def divide_nested_list(nested_list, divisor):\n",
    "    result = []\n",
    "    for sublist in nested_list:\n",
    "        divided_sublist = []\n",
    "        for number in sublist:\n",
    "            divided_sublist.append(round(number / divisor))\n",
    "        result.append(divided_sublist)\n",
    "    return result"
   ]
  },
  {
   "cell_type": "code",
   "execution_count": 11,
   "metadata": {},
   "outputs": [],
   "source": [
    "class MultiSequenceProgram(AveragerProgram):\n",
    "    def __init__(self,soccfg, cfg):\n",
    "        super().__init__(soccfg, cfg)\n",
    "\n",
    "    def initialize(self):\n",
    "        cfg=self.cfg \n",
    "        \n",
    "        #EOM\n",
    "        for ch in out_chs: #[0,1]\n",
    "            #READOUT AT CHANNEL 0 and 1\n",
    "            self.declare_readout(ch=ch, length=self.cfg[\"readout_length\"],\n",
    "                                 freq=self.cfg[\"pulse_freq\"])\n",
    "\n",
    "        idata = 30000*np.ones(16*cfg[\"EOM\"][\"length\"])\n",
    "#         qdata = 30000*np.ones(16*cfg[\"length\"])\n",
    "\n",
    "        for ch in self.cfg[\"EOM\"]['out_ch']:\n",
    "            #GENERATE AT CHANNEL 0 and 1\n",
    "            self.declare_gen(ch=ch, nqz=cfg[\"EOM\"][\"zone\"])\n",
    "            #ADD PULSE AT CHANNEL 0 and 1\n",
    "            self.add_pulse(ch=ch, name=\"measure\", idata=idata)\n",
    "#             self.add_pulse(ch=ch, name=\"measure\", idata=idata,qdata=qdata)\n",
    "        \n",
    "        freq=soccfg.freq2reg(cfg[\"pulse_freq\"])  # convert frequency to dac frequency\n",
    "#         self.trigger(pins=[0], t=0) # send a pulse on pmod0_0, for scope trigger\n",
    "        for ii, ch in enumerate(self.cfg[\"EOM\"]['out_ch']):\n",
    "            #PULSE REGISTER AT CHANNEL 0 and 1\n",
    "            self.default_pulse_registers(ch=ch,style=\"arb\",waveform=\"measure\", mode=cfg[\"EOM\"][\"mode\"])\n",
    "                \n",
    "    def body(self):\n",
    "        cfg=self.cfg \n",
    "        \n",
    "        #EOM\n",
    "        self.trigger(adcs=[0,1],adc_trig_offset=cfg[\"adc_trig_offset\"])  # trigger the adc acquisition\n",
    "        for ii, ch in enumerate(cfg[\"EOM\"]['out_ch']):\n",
    "            for jj,freq in enumerate(cfg[\"EOM\"][\"freq_seq\"]):\n",
    "                #PULSE REGISTER AT CHANNEL 0 and 1\n",
    "                self.set_pulse_registers(ch=ch, freq=soccfg.freq2reg(cfg[\"EOM\"][freq][\"pulse_freq\"]), phase=soccfg.deg2reg(cfg[\"EOM\"][freq][\"res_phase\"]), gain=cfg[\"EOM\"][freq][\"pulse_gain\"])\n",
    "                #PULSE AT CHANNEL 0 and 1\n",
    "                self.pulse(ch=ch, t=cfg[\"EOM\"][\"time_seq\"][jj]) # play readout pulse\n",
    "        \n",
    "        #AOM\n",
    "        self.cfg[\"AOM\"][\"time\"] = divide_nested_list(self.cfg[\"AOM\"][\"time\"],2.6)\n",
    "        self.cfg[\"AOM\"][\"length\"] = divide_nested_list(self.cfg[\"AOM\"][\"length\"],2.6)\n",
    "        \n",
    "        time_list,length,pins_seq = sequence_TTL(self.cfg[\"AOM\"][\"time\"], self.cfg[\"AOM\"][\"length\"], self.cfg[\"AOM\"][\"pins\"])\n",
    "        for time_index, time in enumerate(time_list):\n",
    "            self.trigger(adcs=self.ro_chs,\n",
    "                    pins=pins_seq[time_index], \n",
    "                    adc_trig_offset=self.cfg[\"adc_trig_offset\"],\n",
    "                     t = time,\n",
    "                    width = length[time_index])\n",
    "        self.wait_all()\n",
    "        self.sync_all(self.us2cycles(self.cfg[\"relax_delay\"]))\n",
    "        \n",
    "\n",
    "\n",
    "#Global Config\n",
    "#EOM\n",
    "freqA = {\"res_phase\": 90 , # The phase of the signal        \n",
    "\n",
    "        \"pulse_gain\": 2000, # [DAC units]\n",
    "        # Try varying pulse_gain from 500 to 30000 DAC units\n",
    "\n",
    "        \"pulse_freq\": soccfg.adcfreq(1000, gen_ch=0, ro_ch=0), # [MHz]\n",
    "        }\n",
    "freqB = {\"res_phase\": 180 , # The phase of the signal        \n",
    "\n",
    "        \"pulse_gain\": 3000, # [DAC units]\n",
    "        # Try varying pulse_gain from 500 to 30000 DAC units\n",
    "        \"pulse_style\": \"const\", # --Fixed\n",
    "        \"pulse_freq\": soccfg.adcfreq(1000, gen_ch=0, ro_ch=0), # [MHz]\n",
    "        }\n",
    "A = \"freqA\"\n",
    "B = \"freqB\"\n",
    "configEOM={\"out_ch\":out_chs,\n",
    "        # \"reps\":1, # --Fixed\n",
    "        \"freqA\": freqA,\n",
    "        \"freqB\": freqB,\n",
    "        \"freq_seq\": [A,B,A,B],\n",
    "#         \"res_phase\": [180 ,180],\n",
    "#         \"pulse_gain\":[32000,32000],\n",
    "        \"time_seq\":[50, 190,370,700],\n",
    "        # pulse length: will be repeated periodically\n",
    "        \"length\":100, # [Clock ticks]\n",
    "        \"pulse_freq\":soccfg.adcfreq(1000, gen_ch=0, ro_ch=0), #readout freq\n",
    "        # \"readout_length\": 2000, # [Clock ticks]\n",
    "        \n",
    "        \"zone\": 1,  \n",
    "        # nyquist zone of generator\n",
    "        \n",
    "        \"mode\": \"periodic\",\n",
    "        # to make CW output\n",
    "        \n",
    "        #\"mode\": \"oneshot\"\n",
    "        # to make single shot output\n",
    "\n",
    "       }\n",
    "\n",
    "#TTL\n",
    "configAOM={\n",
    "        \"length\":[[200,200,200,200],[200,200,200,200],[200,200,200,200],[200,200,200,200]], # [Clock ticks]\n",
    "        \"pins\":[1,2,0,3],\n",
    "        \"time\":[[0,400,800,1200],[0,400,800,1200],[0,400,800,1200],[0,400,800,1200]],\n",
    "        \n",
    "        # Try varying soft_avgs from 1 to 200 averages\n",
    "       }\n",
    "config= {\n",
    "    \n",
    "    \"adc_trig_offset\": 100, # [Clock ticks]\n",
    "    \"soft_avgs\":1,\n",
    "    # \"zone\": 1,  \n",
    "    \"relax_delay\":1.0, # --us\n",
    "    #Readout\n",
    "    \"readout_length\": 2000, # [Clock ticks]\n",
    "    \"pulse_freq\":soccfg.adcfreq(1000, gen_ch=0, ro_ch=0),\n",
    "    \"reps\":1, # --Fixed\n",
    "    \"EOM\":configEOM,\n",
    "    \"AOM\":configAOM\n",
    "    }\n",
    "\n",
    "\n"
   ]
  },
  {
   "cell_type": "code",
   "execution_count": 12,
   "metadata": {},
   "outputs": [
    {
     "name": "stdout",
     "output_type": "stream",
     "text": [
      "Readout time 0 appears to conflict with previous readout ending at 1524.153646?\n",
      "Readout time 0 appears to conflict with previous readout ending at 1524.153646?\n",
      "Readout time 154 appears to conflict with previous readout ending at 1524.153646?\n",
      "Readout time 154 appears to conflict with previous readout ending at 1524.153646?\n",
      "Readout time 308 appears to conflict with previous readout ending at 1678.153646?\n",
      "Readout time 308 appears to conflict with previous readout ending at 1678.153646?\n",
      "Readout time 462 appears to conflict with previous readout ending at 1832.153646?\n",
      "Readout time 462 appears to conflict with previous readout ending at 1832.153646?\n"
     ]
    },
    {
     "data": {
      "application/vnd.jupyter.widget-view+json": {
       "model_id": "3ff7f655e946456398ff6acd26e8efd5",
       "version_major": 2,
       "version_minor": 0
      },
      "text/plain": [
       "  0%|          | 0/1 [00:00<?, ?it/s]"
      ]
     },
     "metadata": {},
     "output_type": "display_data"
    },
    {
     "data": {
      "application/vnd.jupyter.widget-view+json": {
       "model_id": "b3829768c9ac4f36b8aa898fd63c939c",
       "version_major": 2,
       "version_minor": 0
      },
      "text/plain": [
       "  0%|          | 0/1 [00:00<?, ?it/s]"
      ]
     },
     "metadata": {},
     "output_type": "display_data"
    },
    {
     "data": {
      "application/vnd.jupyter.widget-view+json": {
       "model_id": "c2abf3d2eb52457f8664fb74f0b8b47e",
       "version_major": 2,
       "version_minor": 0
      },
      "text/plain": [
       "  0%|          | 0/1 [00:00<?, ?it/s]"
      ]
     },
     "metadata": {},
     "output_type": "display_data"
    },
    {
     "data": {
      "application/vnd.jupyter.widget-view+json": {
       "model_id": "e462f47f237446409e447965bb042b66",
       "version_major": 2,
       "version_minor": 0
      },
      "text/plain": [
       "  0%|          | 0/1 [00:00<?, ?it/s]"
      ]
     },
     "metadata": {},
     "output_type": "display_data"
    },
    {
     "data": {
      "application/vnd.jupyter.widget-view+json": {
       "model_id": "804d3a82113d409f9c3f67cd861a2ebd",
       "version_major": 2,
       "version_minor": 0
      },
      "text/plain": [
       "  0%|          | 0/1 [00:00<?, ?it/s]"
      ]
     },
     "metadata": {},
     "output_type": "display_data"
    },
    {
     "data": {
      "application/vnd.jupyter.widget-view+json": {
       "model_id": "503f57c0f87e44688fb2095dc7a1df2d",
       "version_major": 2,
       "version_minor": 0
      },
      "text/plain": [
       "  0%|          | 0/1 [00:00<?, ?it/s]"
      ]
     },
     "metadata": {},
     "output_type": "display_data"
    },
    {
     "data": {
      "application/vnd.jupyter.widget-view+json": {
       "model_id": "fb6a7fb9327a47c68113a505af9a98c1",
       "version_major": 2,
       "version_minor": 0
      },
      "text/plain": [
       "  0%|          | 0/1 [00:00<?, ?it/s]"
      ]
     },
     "metadata": {},
     "output_type": "display_data"
    },
    {
     "data": {
      "application/vnd.jupyter.widget-view+json": {
       "model_id": "8c42da23a1c84eebb8d59eafd5d72292",
       "version_major": 2,
       "version_minor": 0
      },
      "text/plain": [
       "  0%|          | 0/1 [00:00<?, ?it/s]"
      ]
     },
     "metadata": {},
     "output_type": "display_data"
    },
    {
     "data": {
      "application/vnd.jupyter.widget-view+json": {
       "model_id": "1d96d60d2845451599978115c3de142b",
       "version_major": 2,
       "version_minor": 0
      },
      "text/plain": [
       "  0%|          | 0/1 [00:00<?, ?it/s]"
      ]
     },
     "metadata": {},
     "output_type": "display_data"
    },
    {
     "data": {
      "application/vnd.jupyter.widget-view+json": {
       "model_id": "8336024853ae413fbf408c7d8c922a05",
       "version_major": 2,
       "version_minor": 0
      },
      "text/plain": [
       "  0%|          | 0/1 [00:00<?, ?it/s]"
      ]
     },
     "metadata": {},
     "output_type": "display_data"
    },
    {
     "data": {
      "application/vnd.jupyter.widget-view+json": {
       "model_id": "43d386eceb1c449285de9749d75e0598",
       "version_major": 2,
       "version_minor": 0
      },
      "text/plain": [
       "  0%|          | 0/1 [00:00<?, ?it/s]"
      ]
     },
     "metadata": {},
     "output_type": "display_data"
    },
    {
     "data": {
      "application/vnd.jupyter.widget-view+json": {
       "model_id": "37a30cc3329e4fcc82cad65de3c52f64",
       "version_major": 2,
       "version_minor": 0
      },
      "text/plain": [
       "  0%|          | 0/1 [00:00<?, ?it/s]"
      ]
     },
     "metadata": {},
     "output_type": "display_data"
    },
    {
     "data": {
      "application/vnd.jupyter.widget-view+json": {
       "model_id": "5f9d675b890a4f698079bbcfcced552f",
       "version_major": 2,
       "version_minor": 0
      },
      "text/plain": [
       "  0%|          | 0/1 [00:00<?, ?it/s]"
      ]
     },
     "metadata": {},
     "output_type": "display_data"
    },
    {
     "data": {
      "application/vnd.jupyter.widget-view+json": {
       "model_id": "5729c696b8c74273967136359f0f1287",
       "version_major": 2,
       "version_minor": 0
      },
      "text/plain": [
       "  0%|          | 0/1 [00:00<?, ?it/s]"
      ]
     },
     "metadata": {},
     "output_type": "display_data"
    },
    {
     "data": {
      "application/vnd.jupyter.widget-view+json": {
       "model_id": "1373cae386d5499d81c894cfbdadaf15",
       "version_major": 2,
       "version_minor": 0
      },
      "text/plain": [
       "  0%|          | 0/1 [00:00<?, ?it/s]"
      ]
     },
     "metadata": {},
     "output_type": "display_data"
    },
    {
     "data": {
      "application/vnd.jupyter.widget-view+json": {
       "model_id": "1408bf4d854944d39e60b77214c1f94e",
       "version_major": 2,
       "version_minor": 0
      },
      "text/plain": [
       "  0%|          | 0/1 [00:00<?, ?it/s]"
      ]
     },
     "metadata": {},
     "output_type": "display_data"
    },
    {
     "data": {
      "application/vnd.jupyter.widget-view+json": {
       "model_id": "96a1dc249ad146a1b18148d6699f6e79",
       "version_major": 2,
       "version_minor": 0
      },
      "text/plain": [
       "  0%|          | 0/1 [00:00<?, ?it/s]"
      ]
     },
     "metadata": {},
     "output_type": "display_data"
    },
    {
     "data": {
      "application/vnd.jupyter.widget-view+json": {
       "model_id": "d2200d34805f407b8a0ee82942d22b9a",
       "version_major": 2,
       "version_minor": 0
      },
      "text/plain": [
       "  0%|          | 0/1 [00:00<?, ?it/s]"
      ]
     },
     "metadata": {},
     "output_type": "display_data"
    },
    {
     "data": {
      "application/vnd.jupyter.widget-view+json": {
       "model_id": "41e732b1ca46409c95d1738edd821615",
       "version_major": 2,
       "version_minor": 0
      },
      "text/plain": [
       "  0%|          | 0/1 [00:00<?, ?it/s]"
      ]
     },
     "metadata": {},
     "output_type": "display_data"
    },
    {
     "data": {
      "application/vnd.jupyter.widget-view+json": {
       "model_id": "fd02bf23bf1445ae9d9e23911959929c",
       "version_major": 2,
       "version_minor": 0
      },
      "text/plain": [
       "  0%|          | 0/1 [00:00<?, ?it/s]"
      ]
     },
     "metadata": {},
     "output_type": "display_data"
    },
    {
     "data": {
      "application/vnd.jupyter.widget-view+json": {
       "model_id": "f990f7138f6740aa99fea10af6e12b14",
       "version_major": 2,
       "version_minor": 0
      },
      "text/plain": [
       "  0%|          | 0/1 [00:00<?, ?it/s]"
      ]
     },
     "metadata": {},
     "output_type": "display_data"
    },
    {
     "ename": "KeyboardInterrupt",
     "evalue": "",
     "output_type": "error",
     "traceback": [
      "\u001b[0;31m---------------------------------------------------------------------------\u001b[0m",
      "\u001b[0;31mKeyboardInterrupt\u001b[0m                         Traceback (most recent call last)",
      "\u001b[0;32m<ipython-input-12-6dd15b345f21>\u001b[0m in \u001b[0;36m<module>\u001b[0;34m\u001b[0m\n\u001b[1;32m      3\u001b[0m \u001b[0;32mwhile\u001b[0m \u001b[0;32mTrue\u001b[0m\u001b[0;34m:\u001b[0m\u001b[0;34m\u001b[0m\u001b[0;34m\u001b[0m\u001b[0m\n\u001b[1;32m      4\u001b[0m     \u001b[0miq_list\u001b[0m \u001b[0;34m=\u001b[0m \u001b[0mprog\u001b[0m\u001b[0;34m.\u001b[0m\u001b[0macquire_decimated\u001b[0m\u001b[0;34m(\u001b[0m\u001b[0msoc\u001b[0m\u001b[0;34m)\u001b[0m\u001b[0;34m\u001b[0m\u001b[0;34m\u001b[0m\u001b[0m\n\u001b[0;32m----> 5\u001b[0;31m     \u001b[0mtime\u001b[0m\u001b[0;34m.\u001b[0m\u001b[0msleep\u001b[0m\u001b[0;34m(\u001b[0m\u001b[0;36m2\u001b[0m\u001b[0;34m)\u001b[0m\u001b[0;34m\u001b[0m\u001b[0;34m\u001b[0m\u001b[0m\n\u001b[0m\u001b[1;32m      6\u001b[0m \u001b[0;34m\u001b[0m\u001b[0m\n\u001b[1;32m      7\u001b[0m \u001b[0;31m# Plot results.\u001b[0m\u001b[0;34m\u001b[0m\u001b[0;34m\u001b[0m\u001b[0;34m\u001b[0m\u001b[0m\n",
      "\u001b[0;31mKeyboardInterrupt\u001b[0m: "
     ]
    }
   ],
   "source": [
    "prog = MultiSequenceProgram(soccfg, config)\n",
    "import time\n",
    "while True:\n",
    "    iq_list = prog.acquire_decimated(soc)\n",
    "    time.sleep(2)\n",
    "\n",
    "# Plot results.\n",
    "plt.figure(1)\n",
    "for ii, iq in enumerate(iq_list):\n",
    "#     plt.plot(iq[0], label=\"I value, ADC %d\"%(config['out_ch'][ii]))\n",
    "#     plt.plot(iq[1], label=\"Q value, ADC %d\"%(config['out_ch'][ii]))\n",
    "    plt.plot(np.abs(iq[0]+1j*iq[1]), label=\"mag, ADC %d\"%(config[\"EOM\"]['out_ch'][ii]))\n",
    "plt.ylabel(\"a.u.\")\n",
    "plt.xlabel(\"Clock ticks\")\n",
    "plt.title(\"Averages = \" + str(config[\"soft_avgs\"]))\n",
    "plt.legend()\n",
    "\n",
    "\n",
    "# to switch off output\n",
    "soc.reset_gens()"
   ]
  },
  {
   "cell_type": "code",
   "execution_count": 1,
   "metadata": {},
   "outputs": [],
   "source": [
    "#EOM\n",
    "\n",
    "f0_start=1003\n",
    "f0_step=0.000250\n",
    "expts=40\n",
    "# expts=1\n",
    "\n",
    "f0_v = np.arange(0,expts)*f0_step+f0_start\n",
    "\n",
    "f0_v = soccfg.adcfreq(f0_v, gen_ch=0, ro_ch=0)\n",
    "\n",
    "def calculate_phase(d):\n",
    "    [xi,xq] = d\n",
    "    x = xi +1j*xq\n",
    "\n",
    "    # Average to improve calibration.\n",
    "    xavg = np.mean(x)\n",
    "\n",
    "    # Calculate calibration phase.\n",
    "    fi = np.remainder(np.angle(xavg,deg=True)+360,360)\n",
    "    return [fi, np.abs(xavg), np.std(x)]\n",
    "\n",
    "def print_results(f0, res):\n",
    "    print(\"freq_i = %f MHz, \\n\"%(f0) +\n",
    "         \"phi_i = (%.2f, %.2f) deg, \\n\" % tuple([res[i][0] for i in range(2)]) +\n",
    "         \"mag = (%.2f, %.2f), \\n\" % tuple([res[i][1] for i in range(2)]) +\n",
    "         \"RMS = (%.2f, %.2f) ADU\" % tuple([res[i][2] for i in range(2)]))\n",
    "#     print(\"freq_i = %f MHz, phi_i = (%.2f, %.2f) deg, mag = (%.2f, %.2f), RMS = (%.2f, %.2f) ADU\" %(f0,*out_array,*A,*xrms))\n",
    "\n",
    "prog = MultipleFreqProgram(soccfg, config)\n",
    "iq_list = prog.acquire_decimated(soc, load_pulses=True, progress=True, debug=False)\n",
    "\n",
    "# Plot results.\n",
    "plt.figure(1)\n",
    "for ii, iq in enumerate(iq_list):\n",
    "#     plt.plot(iq[0], label=\"I value, ADC %d\"%(config['out_ch'][ii]))\n",
    "#     plt.plot(iq[1], label=\"Q value, ADC %d\"%(config['out_ch'][ii]))\n",
    "    plt.plot(np.abs(iq[0]+1j*iq[1]), label=\"mag, ADC %d\"%(config['out_ch'][ii]))\n",
    "plt.ylabel(\"a.u.\")\n",
    "plt.xlabel(\"Clock ticks\")\n",
    "plt.title(\"Averages = \" + str(config[\"soft_avgs\"]))\n",
    "plt.legend()\n",
    "\n",
    "\n",
    "# to switch off output\n",
    "soc.reset_gens()\n",
    "\n",
    "\n",
    "# get the phase\n",
    "res = [calculate_phase(iq) for iq in iq_list]\n",
    "print_results(config['pulse_freq'], res)\n",
    "\n",
    "p_diff = res[0][0]-res[1][0]\n",
    "print('Phase difference of {:} deg'.format(p_diff))\n",
    "\n",
    "# if config['res_phase'] == [0, 0]:\n",
    "#     p_diff0 = p_diff.copy() \n",
    "\n"
   ]
  }
 ],
 "metadata": {
  "kernelspec": {
   "display_name": "Python 3",
   "language": "python",
   "name": "python3"
  },
  "language_info": {
   "codemirror_mode": {
    "name": "ipython",
    "version": 3
   },
   "file_extension": ".py",
   "mimetype": "text/x-python",
   "name": "python",
   "nbconvert_exporter": "python",
   "pygments_lexer": "ipython3",
   "version": "3.8.2"
  }
 },
 "nbformat": 4,
 "nbformat_minor": 2
}
